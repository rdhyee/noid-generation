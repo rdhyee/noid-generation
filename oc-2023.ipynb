{
 "cells": [
  {
   "cell_type": "code",
   "execution_count": 1,
   "id": "634b6542-b0d2-43f4-be0a-872c4e667363",
   "metadata": {},
   "outputs": [],
   "source": [
    "# create pybash macro\n",
    "# https://stackoverflow.com/a/67029719/7782\n",
    "from IPython import get_ipython\n",
    "from IPython.core.magic import register_cell_magic\n",
    "\n",
    "ipython = get_ipython()\n",
    "\n",
    "@register_cell_magic\n",
    "def pybash(line, cell):\n",
    "    ipython.run_cell_magic('bash', '', cell.format(**globals()))"
   ]
  },
  {
   "cell_type": "code",
   "execution_count": 2,
   "id": "f9957f28-27a5-4808-bbd6-5075f01d0148",
   "metadata": {},
   "outputs": [],
   "source": [
    "# imports\n",
    "import argparse\n",
    "import os\n",
    "import types\n",
    "import datetime\n",
    "import uuid\n",
    "\n",
    "\n",
    "import ezid_client_tools as ect\n",
    "from ezid_client_tools.utils import ANVL\n",
    "\n",
    "import structured_ezid as sezid\n",
    "from structured_ezid import ARKIdentifier\n",
    "\n",
    "import settings\n"
   ]
  },
  {
   "cell_type": "code",
   "execution_count": 3,
   "id": "7f2d240e-e786-4032-a6a5-49056d065993",
   "metadata": {},
   "outputs": [],
   "source": [
    "# project constants\n",
    "EZID_USER = os.environ.get('EZID_USER')\n",
    "EZID_PASSWD = os.environ.get('EZID_PASSWD')\n",
    "\n",
    "if (EZID_USER is None) or (EZID_PASSWD is None):\n",
    "    import settings\n",
    "    EZID_USER = settings.EZID_USER\n",
    "    EZID_PASSWD = settings.EZID_PASSWD\n",
    "\n",
    "TEST_NAAN = \"99999\"\n",
    "TEST_SHOULDER = \"fk4\"\n",
    "TEST_ID = \"isamplestest\"\n",
    "TEST_PROJECT_ID = \"prefixmatch\"\n",
    "\n",
    "# New shoulder\n",
    "\n",
    "OC_NAAN = \"28722\"\n",
    "OC_PREREG_SHOULDER = \"r2\""
   ]
  },
  {
   "cell_type": "code",
   "execution_count": 4,
   "id": "9ff59737-971b-49c5-bb4f-5775f3982c2f",
   "metadata": {},
   "outputs": [
    {
     "data": {
      "text/plain": [
       "ark:/28722/r2prj24"
      ]
     },
     "execution_count": 4,
     "metadata": {},
     "output_type": "execute_result"
    }
   ],
   "source": [
    "# https://n2t.net/ark:/28722/r2/prj24\n",
    "\n",
    "\n",
    "oc_id0 = ARKIdentifier(OC_NAAN, OC_PREREG_SHOULDER, \"prj24\")\n",
    "oc_id0"
   ]
  },
  {
   "cell_type": "code",
   "execution_count": 5,
   "id": "86490286-6578-4845-aa3f-ae5a7b75877b",
   "metadata": {},
   "outputs": [
    {
     "data": {
      "text/plain": [
       "ark:/28722/r2prj24/cat"
      ]
     },
     "execution_count": 5,
     "metadata": {},
     "output_type": "execute_result"
    }
   ],
   "source": [
    "oc_id0 / \"cat\""
   ]
  },
  {
   "cell_type": "code",
   "execution_count": 6,
   "id": "27708b63-fb22-433b-b70b-dd66c8686551",
   "metadata": {},
   "outputs": [
    {
     "data": {
      "text/plain": [
       "[ark:/28722/r2prj24,\n",
       " ark:/28722/r2prj24/cat,\n",
       " ark:/28722/r2prj24/bf,\n",
       " ark:/28722/r2prj24/ab]"
      ]
     },
     "execution_count": 6,
     "metadata": {},
     "output_type": "execute_result"
    }
   ],
   "source": [
    "[ oc_id0,\n",
    "  oc_id0 / \"cat\",\n",
    "  oc_id0 / \"bf\", \n",
    "  oc_id0 / \"ab\"\n",
    "]"
   ]
  },
  {
   "cell_type": "code",
   "execution_count": 7,
   "id": "3611cfae-6993-4275-83b3-ab5500ef077f",
   "metadata": {},
   "outputs": [
    {
     "data": {
      "text/plain": [
       "[(ark:/28722/r2prj24,\n",
       "  {'profile': 'dc',\n",
       "   'dc.title': 'Poggio Civitate (Murlo) Project',\n",
       "   'dc.description': 'Identifier pre-registration for data collected in the field for archaeological excavations at Poggio Civitate (Murlo)',\n",
       "   'dc.creator': 'Anthony Tuck'}),\n",
       " (ark:/28722/r2prj24/pc,\n",
       "  {'profile': 'dc',\n",
       "   'dc.title': 'Catalog, Finds Registration for the Poggio Civitate site',\n",
       "   'dc.description': 'Identifier pre-registration for objects (artifacts, ecofacts, samples) from the Poggio Civitate (hill) registered into the Poggio Civitate project catalog and stored in the project magazzino (designated storage facility).',\n",
       "   'dc.creator': 'Anthony Tuck'}),\n",
       " (ark:/28722/r2prj24/vdm,\n",
       "  {'profile': 'dc',\n",
       "   'dc.title': 'Catalog, Finds Registration for the Vescovado di Murlo site',\n",
       "   'dc.description': 'Identifier pre-registration for objects (artifacts, ecofacts, samples) from the Vescovado di Murlo site registered into the Poggio Civitate project catalog and stored in the project magazzino (designated storage facility).',\n",
       "   'dc.creator': 'Anthony Tuck'}),\n",
       " (ark:/28722/r2prj24/bf,\n",
       "  {'profile': 'dc',\n",
       "   'dc.title': 'Bulk Finds Registration',\n",
       "   'dc.description': 'Identifier pre-registration for bulk finds – any material from a stratigraphic context that is recorded and bagged as a material group, for example pottery, building materials, animal bone.',\n",
       "   'dc.creator': 'Anthony Tuck'}),\n",
       " (ark:/28722/r2prj24/fa,\n",
       "  {'profile': 'dc',\n",
       "   'dc.title': 'Animal bone / Zooarchaeological Registration',\n",
       "   'dc.description': 'Identifier pre-registration for animal bone specimens documented by the project zooarchaeologist(s).',\n",
       "   'dc.creator': 'Anthony Tuck'})]"
      ]
     },
     "execution_count": 7,
     "metadata": {},
     "output_type": "execute_result"
    }
   ],
   "source": [
    "# https://docs.google.com/document/d/1lGjlqSc7FDB6skBQTCtLj3A26SzN8x9VfLKuozilrgs/edit\n",
    "# Poggio Civitate iSamples Pre-Registration\n",
    "\n",
    "import uuid\n",
    "\n",
    "shoulder_pad = str(uuid.uuid4()).replace(\"-\",\"\")\n",
    "\n",
    "\n",
    "def arks_to_preregister(naan, shoulder, project, shoulder_pad=\"\"):\n",
    "    base_ark = ARKIdentifier(naan, shoulder, f\"{shoulder_pad}{project}\")\n",
    "    return [\n",
    "        (base_ark / \"\" ,\n",
    "          {\n",
    "              \"profile\": \"dc\",\n",
    "              \"dc.title\": \"Poggio Civitate (Murlo) Project\",\n",
    "              \"dc.description\": \"Identifier pre-registration for data collected in the field for archaeological excavations at Poggio Civitate (Murlo)\",\n",
    "              \"dc.creator\": \"Anthony Tuck\"\n",
    "          }),\n",
    "        (base_ark / \"pc\" ,\n",
    "          {\n",
    "              \"profile\": \"dc\",\n",
    "              \"dc.title\": \"Catalog, Finds Registration for the Poggio Civitate site\",\n",
    "              \"dc.description\": \"Identifier pre-registration for objects (artifacts, ecofacts, samples) from the Poggio Civitate (hill) registered into the Poggio Civitate project catalog and stored in the project magazzino (designated storage facility).\",\n",
    "              \"dc.creator\": \"Anthony Tuck\"\n",
    "          }),\n",
    "        (base_ark / \"vdm\" ,\n",
    "          {\n",
    "              \"profile\": \"dc\",\n",
    "              \"dc.title\": \"Catalog, Finds Registration for the Vescovado di Murlo site\",\n",
    "              \"dc.description\": \"Identifier pre-registration for objects (artifacts, ecofacts, samples) from the Vescovado di Murlo site registered into the Poggio Civitate project catalog and stored in the project magazzino (designated storage facility).\",\n",
    "              \"dc.creator\": \"Anthony Tuck\"\n",
    "          }),\n",
    "        (base_ark / \"bf\" ,\n",
    "          {\n",
    "              \"profile\": \"dc\",\n",
    "              \"dc.title\": \"Bulk Finds Registration\",\n",
    "              \"dc.description\": \"Identifier pre-registration for bulk finds – any material from a stratigraphic context that is recorded and bagged as a material group, for example pottery, building materials, animal bone.\",\n",
    "              \"dc.creator\": \"Anthony Tuck\"\n",
    "          }),\n",
    "        (base_ark / \"fa\" ,\n",
    "          {\n",
    "              \"profile\": \"dc\",\n",
    "              \"dc.title\": \"Animal bone / Zooarchaeological Registration\",\n",
    "              \"dc.description\": \"Identifier pre-registration for animal bone specimens documented by the project zooarchaeologist(s).\",\n",
    "              \"dc.creator\": \"Anthony Tuck\"\n",
    "          })\n",
    "    ]\n",
    "\n",
    "    \n",
    "\n",
    "arks_to_preregister(OC_NAAN, OC_PREREG_SHOULDER, \"prj24\")"
   ]
  },
  {
   "cell_type": "code",
   "execution_count": 9,
   "id": "9dd163f2-97b6-4ec9-940e-48026ba6c606",
   "metadata": {},
   "outputs": [
    {
     "data": {
      "text/plain": [
       "[(ark:/99999/fk4oc20230616_prj24,\n",
       "  {'profile': 'dc',\n",
       "   'dc.title': 'Poggio Civitate (Murlo) Project',\n",
       "   'dc.description': 'Identifier pre-registration for data collected in the field for archaeological excavations at Poggio Civitate (Murlo)',\n",
       "   'dc.creator': 'Anthony Tuck'}),\n",
       " (ark:/99999/fk4oc20230616_prj24/pc,\n",
       "  {'profile': 'dc',\n",
       "   'dc.title': 'Catalog, Finds Registration for the Poggio Civitate site',\n",
       "   'dc.description': 'Identifier pre-registration for objects (artifacts, ecofacts, samples) from the Poggio Civitate (hill) registered into the Poggio Civitate project catalog and stored in the project magazzino (designated storage facility).',\n",
       "   'dc.creator': 'Anthony Tuck'}),\n",
       " (ark:/99999/fk4oc20230616_prj24/vdm,\n",
       "  {'profile': 'dc',\n",
       "   'dc.title': 'Catalog, Finds Registration for the Vescovado di Murlo site',\n",
       "   'dc.description': 'Identifier pre-registration for objects (artifacts, ecofacts, samples) from the Vescovado di Murlo site registered into the Poggio Civitate project catalog and stored in the project magazzino (designated storage facility).',\n",
       "   'dc.creator': 'Anthony Tuck'}),\n",
       " (ark:/99999/fk4oc20230616_prj24/bf,\n",
       "  {'profile': 'dc',\n",
       "   'dc.title': 'Bulk Finds Registration',\n",
       "   'dc.description': 'Identifier pre-registration for bulk finds – any material from a stratigraphic context that is recorded and bagged as a material group, for example pottery, building materials, animal bone.',\n",
       "   'dc.creator': 'Anthony Tuck'}),\n",
       " (ark:/99999/fk4oc20230616_prj24/fa,\n",
       "  {'profile': 'dc',\n",
       "   'dc.title': 'Animal bone / Zooarchaeological Registration',\n",
       "   'dc.description': 'Identifier pre-registration for animal bone specimens documented by the project zooarchaeologist(s).',\n",
       "   'dc.creator': 'Anthony Tuck'})]"
      ]
     },
     "execution_count": 9,
     "metadata": {},
     "output_type": "execute_result"
    }
   ],
   "source": [
    "test_arks = arks_to_preregister(TEST_NAAN, TEST_SHOULDER, \"oc20230616_prj24\")\n",
    "test_arks"
   ]
  },
  {
   "cell_type": "code",
   "execution_count": 15,
   "id": "df36b37f-3779-4fb3-8948-7c911bca7803",
   "metadata": {},
   "outputs": [
    {
     "name": "stdout",
     "output_type": "stream",
     "text": [
      "success: ark:/99999/fk4oc20230616_prj24 201\n",
      "success: ark:/99999/fk4oc20230616_prj24/pc 201\n",
      "success: ark:/99999/fk4oc20230616_prj24/vdm 201\n",
      "success: ark:/99999/fk4oc20230616_prj24/bf 201\n",
      "success: ark:/99999/fk4oc20230616_prj24/fa 201\n"
     ]
    }
   ],
   "source": [
    "# create a throwaway fake ark -- that will disappear anyhow\n",
    "# let's use Client2\n",
    "\n",
    "client2 = sezid.Client2()\n",
    "client2.args.credentials = f\"{EZID_USER}:{EZID_PASSWD}\"\n",
    "client2.args.server = \"s\"\n",
    "\n",
    "for (ark_, metadata_) in test_arks:\n",
    "\n",
    "    try:\n",
    "        (response, headers, status) = client2.create_identifier(\n",
    "            ark_, metadata_, update=True\n",
    "        )\n",
    "    except ect.ClientError as e:\n",
    "        if isinstance(e, ect.HTTPClientError):\n",
    "            print(e.status, str(e))\n",
    "        else:\n",
    "            print(e, type(e))\n",
    "    else:\n",
    "        print(response, status)"
   ]
  },
  {
   "cell_type": "code",
   "execution_count": 16,
   "id": "477930d4-148c-41a0-8ba0-ab2237c3a8a7",
   "metadata": {},
   "outputs": [
    {
     "data": {
      "text/plain": [
       "('success: ark:/99999/fk4oc20230616_prj24\\nprofile: dc\\ndc.title: Poggio Civitate (Murlo) Project\\ndc.creator: Anthony Tuck\\ndc.description: Identifier pre-registration for data collected in the field for archaeological excavations at Poggio Civitate (Murlo)\\n_owner: opencontext\\n_ownergroup: ucblibrary\\n_created: 1686939885\\n_updated: 1686940238\\n_profile: erc\\n_target: https://ezid-stg.cdlib.org/id/ark:/99999/fk4oc20230616_prj24\\n_status: public\\n_export: yes\\n',\n",
       " LastUpdatedOrderedDict([('success', 'ark:/99999/fk4oc20230616_prj24'),\n",
       "                         ('profile', 'dc'),\n",
       "                         ('dc.title', 'Poggio Civitate (Murlo) Project'),\n",
       "                         ('dc.creator', 'Anthony Tuck'),\n",
       "                         ('dc.description',\n",
       "                          'Identifier pre-registration for data collected in the field for archaeological excavations at Poggio Civitate (Murlo)'),\n",
       "                         ('_owner', 'opencontext'),\n",
       "                         ('_ownergroup', 'ucblibrary'),\n",
       "                         ('_created', '1686939885'),\n",
       "                         ('_updated', '1686940238'),\n",
       "                         ('_profile', 'erc'),\n",
       "                         ('_target',\n",
       "                          'https://ezid-stg.cdlib.org/id/ark:/99999/fk4oc20230616_prj24'),\n",
       "                         ('_status', 'public'),\n",
       "                         ('_export', 'yes')]),\n",
       " <http.client.HTTPMessage at 0x7fc6eeb7d050>,\n",
       " 200)"
      ]
     },
     "execution_count": 16,
     "metadata": {},
     "output_type": "execute_result"
    }
   ],
   "source": [
    "client2.view_identifier(\"ark:/99999/fk4oc20230616_prj24\")"
   ]
  },
  {
   "cell_type": "code",
   "execution_count": 18,
   "id": "1425319d-d51f-468b-95c7-3bdca7c70c3b",
   "metadata": {},
   "outputs": [
    {
     "data": {
      "text/plain": [
       "(ark:/99999/fk4oc20230616_prj24,\n",
       " LastUpdatedOrderedDict([('success',\n",
       "                          'ark:/99999/fk4oc20230616_prj24 in_lieu_of ark:/99999/fk4oc20230616_prj24/randomy323'),\n",
       "                         ('profile', 'dc'),\n",
       "                         ('dc.title', 'Poggio Civitate (Murlo) Project'),\n",
       "                         ('dc.creator', 'Anthony Tuck'),\n",
       "                         ('dc.description',\n",
       "                          'Identifier pre-registration for data collected in the field for archaeological excavations at Poggio Civitate (Murlo)'),\n",
       "                         ('_owner', 'opencontext'),\n",
       "                         ('_ownergroup', 'ucblibrary'),\n",
       "                         ('_created', '1686939885'),\n",
       "                         ('_updated', '1686940238'),\n",
       "                         ('_profile', 'erc'),\n",
       "                         ('_target',\n",
       "                          'https://ezid-stg.cdlib.org/id/ark:/99999/fk4oc20230616_prj24'),\n",
       "                         ('_status', 'public'),\n",
       "                         ('_export', 'yes')]),\n",
       " False)"
      ]
     },
     "execution_count": 18,
     "metadata": {},
     "output_type": "execute_result"
    }
   ],
   "source": [
    "client2.view_identifier_or_ancestor(\"ark:/99999/fk4oc20230616_prj24/randomy323\")"
   ]
  },
  {
   "cell_type": "code",
   "execution_count": null,
   "id": "b912f38d-7f5a-45af-bfd3-b59bf4267a4a",
   "metadata": {},
   "outputs": [],
   "source": []
  }
 ],
 "metadata": {
  "kernelspec": {
   "display_name": "Python 3 (ipykernel)",
   "language": "python",
   "name": "python3"
  },
  "language_info": {
   "codemirror_mode": {
    "name": "ipython",
    "version": 3
   },
   "file_extension": ".py",
   "mimetype": "text/x-python",
   "name": "python",
   "nbconvert_exporter": "python",
   "pygments_lexer": "ipython3",
   "version": "3.11.4"
  }
 },
 "nbformat": 4,
 "nbformat_minor": 5
}
