{
 "cells": [
  {
   "cell_type": "code",
   "execution_count": 1,
   "id": "3758ce48-0bc6-4685-9257-eac6ba644d6d",
   "metadata": {},
   "outputs": [],
   "source": [
    "# create pybash macro\n",
    "# https://stackoverflow.com/a/67029719/7782\n",
    "from IPython import get_ipython\n",
    "from IPython.core.magic import register_cell_magic\n",
    "\n",
    "ipython = get_ipython()\n",
    "\n",
    "@register_cell_magic\n",
    "def pybash(line, cell):\n",
    "    ipython.run_cell_magic('bash', '', cell.format(**globals()))"
   ]
  },
  {
   "cell_type": "code",
   "execution_count": 2,
   "id": "417089e8-83d9-4062-87f4-1bb6c719eb27",
   "metadata": {},
   "outputs": [],
   "source": [
    "# imports\n",
    "import os\n",
    "import settings"
   ]
  },
  {
   "cell_type": "code",
   "execution_count": 3,
   "id": "a4e77413-4c77-4cdb-8fac-e76c47d564ce",
   "metadata": {},
   "outputs": [],
   "source": [
    "# project constants\n",
    "EZID_USER = os.environ.get('EZID_USER')\n",
    "EZID_PASSWD = os.environ.get('EZID_PASSWD')\n",
    "\n",
    "if (EZID_USER is None) or (EZID_PASSWD is None):\n",
    "    import settings\n",
    "    EZID_USER = settings.EZID_USER\n",
    "    EZID_PASSWD = settings.EZID_PASSWD\n"
   ]
  },
  {
   "cell_type": "markdown",
   "id": "bc4781ee-4005-42dc-a8a9-eea59d367cfa",
   "metadata": {},
   "source": [
    "# ark:/28722/r2p24/pc_20230083"
   ]
  },
  {
   "cell_type": "code",
   "execution_count": 4,
   "id": "eb0a835d-9536-45bc-9a5a-f40655ff7c9a",
   "metadata": {},
   "outputs": [
    {
     "name": "stderr",
     "output_type": "stream",
     "text": [
      "  % Total    % Received % Xferd  Average Speed   Time    Time     Time  Current\n",
      "                                 Dload  Upload   Total   Spent    Left  Speed\n",
      "  0     0    0     0    0     0      0      0 --:--:-- --:--:-- --:--:--     0\n",
      "  0  504k    0     0    0     0      0      0 --:--:-- --:--:-- --:--:--     0\n"
     ]
    },
    {
     "name": "stdout",
     "output_type": "stream",
     "text": [
      "HTTP/1.1 302 Found\n",
      "Date: Thu, 05 Oct 2023 20:59:16 GMT\n",
      "Server: Apache/2.4.43 () OpenSSL/1.0.2k-fips\n",
      "Access-Control-Allow-Origin: *\n",
      "Access-Control-Expose-Headers: Location\n",
      "Access-Control-Allow-Methods: GET, HEAD, OPTIONS\n",
      "Location: https://opencontext.org/subjects/0274cd4d-25c9-4e68-9ee7-c2922063d507\n",
      "Content-Type: text/html; charset=iso-8859-1\n",
      "\n",
      "HTTP/1.1 200 OK\n",
      "Server: nginx/1.18.0\n",
      "Date: Thu, 05 Oct 2023 20:59:16 GMT\n",
      "Content-Type: text/html; charset=utf-8\n",
      "Content-Length: 516547\n",
      "Connection: keep-alive\n",
      "Vary: Accept-Encoding\n",
      "Vary: accept, Accept, content-type, Cookie\n",
      "Expires: Thu, 05 Oct 2023 20:59:16 GMT\n",
      "Cache-Control: max-age=0, no-cache, no-store, must-revalidate, private\n",
      "X-Content-Type-Options: nosniff\n",
      "Referrer-Policy: same-origin\n",
      "Cross-Origin-Opener-Policy: same-origin\n",
      "X-Frame-Options: DENY\n",
      "Strict-Transport-Security: max-age=31536000; includeSubDomains\n",
      "\n"
     ]
    }
   ],
   "source": [
    "%%pybash\n",
    "\n",
    "curl -L -I https://n2t.net/ark:/28722/r2p24/pc_20230083"
   ]
  },
  {
   "cell_type": "code",
   "execution_count": 5,
   "id": "fc3548af-6f68-4732-8cfc-a052bd474bf2",
   "metadata": {},
   "outputs": [
    {
     "name": "stderr",
     "output_type": "stream",
     "text": [
      "  % Total    % Received % Xferd  Average Speed   Time    Time     Time  Current\n",
      "                                 Dload  Upload   Total   Spent    Left  Speed\n",
      "100   134  100   134    0     0   1786      0 --:--:-- --:--:-- --:--:--  1914\n",
      "100   410  100   410    0     0   1888      0 --:--:-- --:--:-- --:--:--  1888\n"
     ]
    },
    {
     "name": "stdout",
     "output_type": "stream",
     "text": [
      "success: ark:/28722/r2p24/pc_20230083\n",
      "erc.who: Anthony Tuck\n",
      "erc.what: PC 20230083 from Europe/Italy/Poggio Civitate/Tesoro/Tesoro 103/T103 2023/Locus 5\n",
      "erc.when: 2023-08-24\n",
      "erc.verbatim_id: PC 20230083\n",
      "_owner: opencontext\n",
      "_ownergroup: ucblibrary\n",
      "_created: 1694735347\n",
      "_updated: 1696098505\n",
      "_profile: erc\n",
      "_target: https://opencontext.org/subjects/0274cd4d-25c9-4e68-9ee7-c2922063d507\n",
      "_status: public\n",
      "_export: yes\n"
     ]
    }
   ],
   "source": [
    "%%pybash\n",
    "\n",
    "curl -L -u \"{EZID_USER}:{EZID_PASSWD}\" -X GET \"http://ezid.cdlib.org/id/ark:/28722/r2p24/pc_20230083\""
   ]
  },
  {
   "cell_type": "markdown",
   "id": "50eb1b9a-9cd5-4ce6-a913-6d3369197802",
   "metadata": {},
   "source": [
    "# ark:/28722/r2p24/pc_bar"
   ]
  },
  {
   "cell_type": "code",
   "execution_count": 6,
   "id": "fe9a87cb-7df6-4f19-a15f-d608b1fb0954",
   "metadata": {},
   "outputs": [
    {
     "name": "stderr",
     "output_type": "stream",
     "text": [
      "  % Total    % Received % Xferd  Average Speed   Time    Time     Time  Current\n",
      "                                 Dload  Upload   Total   Spent    Left  Speed\n",
      "  0     0    0     0    0     0      0      0 --:--:-- --:--:-- --:--:--     0\n",
      "  0 46802    0     0    0     0      0      0 --:--:--  0:00:03 --:--:--     0\n"
     ]
    },
    {
     "name": "stdout",
     "output_type": "stream",
     "text": [
      "HTTP/1.1 302 Found\n",
      "Date: Thu, 05 Oct 2023 20:59:17 GMT\n",
      "Server: Apache/2.4.43 () OpenSSL/1.0.2k-fips\n",
      "Access-Control-Allow-Origin: *\n",
      "Access-Control-Expose-Headers: Location\n",
      "Access-Control-Allow-Methods: GET, HEAD, OPTIONS\n",
      "Location: https://opencontext.org/projects/df043419-f23b-41da-7e4d-ee52af22f92f/pc_bar\n",
      "Content-Type: text/html; charset=iso-8859-1\n",
      "\n",
      "HTTP/1.1 404 Not Found\n",
      "Server: nginx/1.18.0\n",
      "Date: Thu, 05 Oct 2023 20:59:20 GMT\n",
      "Content-Type: text/html; charset=utf-8\n",
      "Content-Length: 46802\n",
      "Connection: keep-alive\n",
      "Vary: Accept-Encoding\n",
      "X-Content-Type-Options: nosniff\n",
      "Referrer-Policy: same-origin\n",
      "Cross-Origin-Opener-Policy: same-origin\n",
      "X-Frame-Options: DENY\n",
      "Vary: Cookie\n",
      "Strict-Transport-Security: max-age=31536000; includeSubDomains\n",
      "\n"
     ]
    }
   ],
   "source": [
    "%%pybash\n",
    "\n",
    "curl -L -I \"https://n2t.net/ark:/28722/r2p24/pc_bar\""
   ]
  },
  {
   "cell_type": "code",
   "execution_count": 7,
   "id": "74f59089-810a-4b78-8b69-f9bb762ae13d",
   "metadata": {},
   "outputs": [
    {
     "name": "stderr",
     "output_type": "stream",
     "text": [
      "  % Total    % Received % Xferd  Average Speed   Time    Time     Time  Current\n",
      "                                 Dload  Upload   Total   Spent    Left  Speed\n",
      "100   134  100   134    0     0   2055      0 --:--:-- --:--:-- --:--:--  2271\n",
      "100    39  100    39    0     0    210      0 --:--:-- --:--:-- --:--:--   210\n"
     ]
    },
    {
     "name": "stdout",
     "output_type": "stream",
     "text": [
      "error: bad request - no such identifier"
     ]
    }
   ],
   "source": [
    "%%pybash\n",
    "\n",
    "curl -L -u \"{EZID_USER}:{EZID_PASSWD}\"  -X GET \"http://ezid.cdlib.org/id/ark:/28722/r2p24/pc_bar\"\n"
   ]
  },
  {
   "cell_type": "markdown",
   "id": "83b5d61e-45f7-4888-9509-b71ebd90a6f6",
   "metadata": {},
   "source": [
    "Question: Why does the EZID API say that there is no such identifier as `ark:/28722/r2p24/pc_bar`?"
   ]
  },
  {
   "cell_type": "code",
   "execution_count": null,
   "id": "2cea8305-1aef-4605-9c8d-09b1ac8aec75",
   "metadata": {},
   "outputs": [],
   "source": []
  }
 ],
 "metadata": {
  "kernelspec": {
   "display_name": "Python 3 (ipykernel)",
   "language": "python",
   "name": "python3"
  },
  "language_info": {
   "codemirror_mode": {
    "name": "ipython",
    "version": 3
   },
   "file_extension": ".py",
   "mimetype": "text/x-python",
   "name": "python",
   "nbconvert_exporter": "python",
   "pygments_lexer": "ipython3",
   "version": "3.11.3"
  }
 },
 "nbformat": 4,
 "nbformat_minor": 5
}
