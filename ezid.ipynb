{
 "cells": [
  {
   "cell_type": "code",
   "execution_count": null,
   "id": "0b97bbf0-8b51-49c7-bf1e-ac8748d15eb2",
   "metadata": {
    "tags": []
   },
   "outputs": [],
   "source": [
    "# create pybash macro\n",
    "# https://stackoverflow.com/a/67029719/7782\n",
    "from IPython import get_ipython\n",
    "from IPython.core.magic import register_cell_magic\n",
    "\n",
    "ipython = get_ipython()\n",
    "\n",
    "@register_cell_magic\n",
    "def pybash(line, cell):\n",
    "    ipython.run_cell_magic('bash', '', cell.format(**globals()))"
   ]
  },
  {
   "cell_type": "code",
   "execution_count": null,
   "id": "d15806c5-4c33-4138-a10d-6a0260e8dfde",
   "metadata": {
    "tags": []
   },
   "outputs": [],
   "source": [
    "# imports\n",
    "import argparse\n",
    "import os\n",
    "import types\n",
    "import datetime\n",
    "\n",
    "\n",
    "import ezid_client_tools as ect\n",
    "from ezid_client_tools.utils import ANVL\n",
    "\n",
    "import structured_ezid as sezid\n",
    "\n",
    "import settings\n",
    "\n"
   ]
  },
  {
   "cell_type": "code",
   "execution_count": null,
   "id": "537eb66f-c00d-4d23-8c61-4ec529a09ea5",
   "metadata": {
    "tags": []
   },
   "outputs": [],
   "source": [
    "# project constants\n",
    "EZID_USER = os.environ.get('EZID_USER')\n",
    "EZID_PASSWD = os.environ.get('EZID_PASSWD')\n",
    "\n",
    "if (EZID_USER is None) or (EZID_PASSWD is None):\n",
    "    import settings\n",
    "    EZID_USER = settings.EZID_USER\n",
    "    EZID_PASSWD = settings.EZID_PASSWD\n",
    "\n",
    "TEST_NAAN = \"99999\"\n",
    "TEST_SHOULDER = \"fk4\"\n",
    "TEST_ID = \"isamplestest\"\n",
    "TEST_PROJECT_ID = \"prefixmatch\"\n",
    "\n",
    "# New shoulder\n",
    "\n",
    "OC_NAAN = \"28722\"\n",
    "OC_PREREG_SHOULDER = \"r2\""
   ]
  },
  {
   "cell_type": "markdown",
   "id": "9e177d96-a979-4c2b-a060-0fafb2c69470",
   "metadata": {},
   "source": [
    "# Create test arks"
   ]
  },
  {
   "cell_type": "code",
   "execution_count": null,
   "id": "721db6b5-813e-427e-a118-a176c170ea1c",
   "metadata": {
    "tags": []
   },
   "outputs": [],
   "source": [
    "client2 = sezid.Client2()\n",
    "client2.args.credentials = f\"{EZID_USER}:{EZID_PASSWD}\"\n",
    "client2.args.server = \"s\"\n",
    "\n",
    "arks_to_create = (\n",
    "  sezid.ARKIdentifier(TEST_NAAN, TEST_SHOULDER, f\"{TEST_ID}\"),\n",
    "  sezid.ARKIdentifier(TEST_NAAN, TEST_SHOULDER, f\"{TEST_ID}/{TEST_PROJECT_ID}\"),\n",
    "  sezid.ARKIdentifier(TEST_NAAN, TEST_SHOULDER, f\"{TEST_ID}/{TEST_PROJECT_ID}/a\"),\n",
    "  sezid.ARKIdentifier(TEST_NAAN, TEST_SHOULDER, f\"{TEST_ID}/{TEST_PROJECT_ID}/a/b\"),\n",
    "  sezid.ARKIdentifier(TEST_NAAN, TEST_SHOULDER, f\"{TEST_ID}/{TEST_PROJECT_ID}/a/c\"),\n",
    "  sezid.ARKIdentifier(TEST_NAAN, TEST_SHOULDER, f\"{TEST_ID}/{TEST_PROJECT_ID}/a/c1\"),\n",
    "  sezid.ARKIdentifier(TEST_NAAN, TEST_SHOULDER, f\"{TEST_ID}/{TEST_PROJECT_ID}/a/c1/d\"),\n",
    ")\n",
    "\n",
    "for ark_ in arks_to_create:\n",
    "    \n",
    "    dt = datetime.datetime.utcnow()\n",
    "\n",
    "    metadata_ = {\n",
    "      \"profile\": \"erc\",\n",
    "      \"erc.who\": \"Raymond Yee\",\n",
    "      \"erc.what\": ark_.postfix,\n",
    "      \"erc.when\": dt.replace(microsecond=0).isoformat(),\n",
    "    }\n",
    "\n",
    "    try:\n",
    "        (response, headers, status) = client2.create_identifier(ark_, metadata_, update=True)\n",
    "    except ect.ClientError as e:\n",
    "        if isinstance(e, ect.HTTPClientError):\n",
    "            print (e.status, str(e))\n",
    "        else:\n",
    "            print(e, type(e))\n",
    "    else:\n",
    "        print(response, status)\n",
    "        "
   ]
  },
  {
   "cell_type": "markdown",
   "id": "e2650759-585b-4f9c-ac4b-5a806ce67da0",
   "metadata": {},
   "source": [
    "# Figuring out Client3"
   ]
  },
  {
   "cell_type": "code",
   "execution_count": null,
   "id": "bbe18587-5b52-4712-b242-6a5723183619",
   "metadata": {},
   "outputs": [],
   "source": [
    "from structured_ezid import ARKIdentifier\n",
    "from typing import Union\n",
    "from pathlib import PurePath as P\n",
    "import re\n",
    "\n",
    "re1 = re.compile(r'(\\S+)(?:\\s*in_lieu_of\\s*(\\S+))?')\n",
    "\n",
    "# return found id_, metadata, identifier_or_ancestor) of id_ or None\n",
    "\n",
    "class Client3(sezid.Client2):\n",
    "    pass\n",
    "\n"
   ]
  },
  {
   "cell_type": "code",
   "execution_count": null,
   "id": "c0d6d005-4362-467c-89bf-dd13a8e8da67",
   "metadata": {},
   "outputs": [],
   "source": [
    "client3 = Client3()\n",
    "client3.args.credentials = f\"{EZID_USER}:{EZID_PASSWD}\"\n",
    "client3.args.server = \"s\"\n",
    "\n",
    "ark0 = ARKIdentifier(s='ark:/99999/fk4isamplestest/prefixmatch', shoulder_size=3)\n",
    "\n",
    "TEST_ID_MAPPING = [\n",
    "    ('a/c1/d', 'a/c1/d'),\n",
    "    ('a/c/e', 'a/c'),\n",
    "    ('a/c1/e', 'a/c1'),\n",
    "    ('a/c12/d/e', 'a')\n",
    "]\n",
    "\n",
    "for (k,v) in TEST_ID_MAPPING:\n",
    "    r = client3.view_identifier_or_ancestor(ark0 / k , prefix_matching=True, shoulder_size=3)\n",
    "    print (k, v, r[0], ark0 / v == r[0])\n"
   ]
  },
  {
   "cell_type": "code",
   "execution_count": null,
   "id": "a8bb3b16-795d-44c7-aeb3-b540ba0fcf0b",
   "metadata": {},
   "outputs": [],
   "source": [
    "r = client3.view_identifier_or_ancestor(ark0 / 'a/c12/d/e', shoulder_size=3, prefix_matching=True)\n",
    "r[0]"
   ]
  },
  {
   "cell_type": "code",
   "execution_count": null,
   "id": "fcc46ac8-a5b2-4104-bb13-f8e2272e3211",
   "metadata": {},
   "outputs": [],
   "source": [
    "r[0] == ark0 / 'a'\n",
    "r[0].naan, r[0].shoulder, r[0].postfix"
   ]
  },
  {
   "cell_type": "code",
   "execution_count": null,
   "id": "f9f15e39-01da-42c9-a640-f22739646233",
   "metadata": {},
   "outputs": [],
   "source": [
    "(ark0 / 'a').postfix"
   ]
  },
  {
   "cell_type": "code",
   "execution_count": null,
   "id": "643d0762-e099-4f77-8130-60c7bfce62c7",
   "metadata": {},
   "outputs": [],
   "source": [
    "ark_.parents"
   ]
  },
  {
   "cell_type": "code",
   "execution_count": null,
   "id": "5bb02906-deaa-4295-843c-6e7e373b8f7d",
   "metadata": {},
   "outputs": [],
   "source": [
    "ark_.parents[-1-len(ark_mapped.parts)]"
   ]
  },
  {
   "cell_type": "code",
   "execution_count": null,
   "id": "165a791d-f8b4-48de-b25b-f26df840a65b",
   "metadata": {},
   "outputs": [],
   "source": [
    "client3.view_identifier_or_ancestor(ark0 / \"a/c/e\", prefix_matching=True, shoulder_size=3)[0] == ark0 / \"a/c\""
   ]
  },
  {
   "cell_type": "code",
   "execution_count": null,
   "id": "554836f8-5ad3-4c4c-b9a2-ac1d6334b32a",
   "metadata": {},
   "outputs": [],
   "source": [
    "ark0 = ARKIdentifier(s='ark:/99999/fk4isamplestest/prefixmatch', shoulder_size=3)\n",
    "\n",
    "ark_ = ark0 / \"a/c/e\"\n",
    "ark_\n",
    "\n",
    "r = client3.view_identifier_or_ancestor(ark_, prefix_matching=True, shoulder_size=3)\n",
    "# r"
   ]
  },
  {
   "cell_type": "code",
   "execution_count": null,
   "id": "1d87a7b3-dbab-4c56-8330-29e840d52a66",
   "metadata": {},
   "outputs": [],
   "source": [
    "# ark:/99999/fk4isamplestest/prefixmatch/a/c1/d -> a/c1/d\n",
    "# ark:/99999/fk4isamplestest/prefixmatch/a/c/e -> a/c \n",
    "# ark:/99999/fk4isamplestest/prefixmatch/a/c1/e -> a/c1\n",
    "# ark:/99999/fk4isamplestest/prefixmatch/a/c12/d/e -> a (not /a/c1)\n",
    "\n",
    "ark_ = ARKIdentifier(s='ark:/99999/fk4isamplestest/prefixmatch/a/c/e', shoulder_size=3)\n",
    "\n",
    "r = client3.view_identifier_or_ancestor(ark_, prefix_matching=True)\n",
    "r"
   ]
  },
  {
   "cell_type": "markdown",
   "id": "12a1bbe4-2fb1-4665-992a-15e2cacfdd6f",
   "metadata": {},
   "source": [
    "```\n",
    "ark:/99999/fk4isamplestest\n",
    "ark:/99999/fk4isamplestest/prefixmatch\n",
    "ark:/99999/fk4isamplestest/prefixmatch/a\n",
    "ark:/99999/fk4isamplestest/prefixmatch/a/b\n",
    "ark:/99999/fk4isamplestest/prefixmatch/a/c\n",
    "ark:/99999/fk4isamplestest/prefixmatch/a/c1\n",
    "ark:/99999/fk4isamplestest/prefixmatch/a/c1/d\n",
    "\n",
    "ark:/99999/fk4isamplestest/prefixmatch/a/c1/d -> a/c1/d\n",
    "ark:/99999/fk4isamplestest/prefixmatch/a/c/e -> a/c (not a/c1)\n",
    "ark:/99999/fk4isamplestest/prefixmatch/a/c1/e -> a/c1\n",
    "ark:/99999/fk4isamplestest/prefixmatch/a/c12/d/e -> /a\n",
    "```\n"
   ]
  },
  {
   "cell_type": "code",
   "execution_count": null,
   "id": "687fe3c4-d900-409a-a79b-d758f0ea11d6",
   "metadata": {
    "tags": []
   },
   "outputs": [],
   "source": [
    "%%pybash\n",
    "\n",
    "ezid s \"{EZID_USER}:{EZID_PASSWD}\" delete \"ark:/{TEST_NAAN}/{TEST_SHOULDER}/00/a6\""
   ]
  },
  {
   "cell_type": "code",
   "execution_count": null,
   "id": "c7543556-c846-400d-a068-e245253ce97b",
   "metadata": {
    "tags": []
   },
   "outputs": [],
   "source": [
    "%%pybash\n",
    "\n",
    "ezid p \"{EZID_USER}:{EZID_PASSWD}\" view ark:/28722/k2154wc6r "
   ]
  },
  {
   "cell_type": "code",
   "execution_count": null,
   "id": "97992aef-171b-4721-be86-52ea4c6947cf",
   "metadata": {
    "tags": []
   },
   "outputs": [],
   "source": [
    "%%pybash\n",
    "\n",
    "curl -u \"{EZID_USER}:{EZID_PASSWD}\" -d format=anvl -d type=ark \\\n",
    "  -d permanence=real \\\n",
    "  -d createdAfter=2023-01-01T00:00:00Z \\\n",
    "  https://ezid.cdlib.org/download_request"
   ]
  },
  {
   "cell_type": "code",
   "execution_count": null,
   "id": "310c2484-d17a-49d5-8419-fedf062d3985",
   "metadata": {
    "tags": []
   },
   "outputs": [],
   "source": [
    "%%pybash\n",
    "\n",
    "curl -u \"{EZID_USER}:{EZID_PASSWD}\" \\\n",
    "  -d format=csv \\\n",
    "  -d column=_id \\\n",
    "  -d column=erc.who \\\n",
    "  -d type=ark \\\n",
    "  -d permanence=real \\\n",
    "  -d createdAfter=2023-01-01T00:00:00Z \\\n",
    "  https://ezid.cdlib.org/download_request\n"
   ]
  },
  {
   "cell_type": "code",
   "execution_count": null,
   "id": "343b5ecf-deb5-4ad4-8a9b-11afad362ac9",
   "metadata": {
    "tags": []
   },
   "outputs": [],
   "source": [
    "%%pybash\n",
    "\n",
    "curl -u \"{EZID_USER}:{EZID_PASSWD}\" \\\n",
    "  -d format=csv \\\n",
    "  -d column=_id \\\n",
    "  -d column=erc.who \\\n",
    "  -d column=erc.what \\\n",
    "  -d column=erc.when \\\n",
    "  -d column=_owner \\\n",
    "  -d column=_ownergroup \\\n",
    "  -d column=_created \\\n",
    "  -d column=_updated \\\n",
    "  -d column=_profile \\\n",
    "  -d column=_target \\\n",
    "  -d column=_status \\\n",
    "  -d column=_export \\\n",
    "  -d type=ark \\\n",
    "  -d permanence=real \\\n",
    "  -d createdAfter=2023-04-01T00:00:00Z \\\n",
    "  https://ezid.cdlib.org/download_request\n",
    "\n"
   ]
  },
  {
   "cell_type": "code",
   "execution_count": null,
   "id": "eae0b4e2-c67f-406d-bb3d-b9a61f9754ad",
   "metadata": {
    "tags": []
   },
   "outputs": [],
   "source": [
    "import requests\n",
    "url = 'https://ezid.cdlib.org/download_request'\n",
    "data = {\n",
    "    'format': 'csv',\n",
    "    'column': ['_id', 'erc.who', 'erc.what', 'erc.when', '_owner', '_ownergroup', '_created', '_updated', '_profile', '_target', '_status', '_export'],\n",
    "    'type': 'ark',\n",
    "    'permanence': 'real',\n",
    "    'createdAfter': '2023-04-01T00:00:00Z'\n",
    "}\n",
    "\n",
    "response = requests.post(url, auth=(EZID_USER, EZID_PASSWD), data=data)\n",
    "\n",
    "if response.status_code == 200:\n",
    "    print(response.text)\n",
    "else:\n",
    "    print(f\"Error: {response.status_code}\")"
   ]
  },
  {
   "cell_type": "code",
   "execution_count": null,
   "id": "5562d164-2800-4824-a131-8b0b97d9cf70",
   "metadata": {
    "tags": []
   },
   "outputs": [],
   "source": [
    "response.status_code, response.text"
   ]
  },
  {
   "cell_type": "code",
   "execution_count": null,
   "id": "863b0ad0-ad01-44ab-8860-f7a71e267bff",
   "metadata": {
    "tags": []
   },
   "outputs": [],
   "source": [
    "# write a public fake ARK"
   ]
  },
  {
   "cell_type": "markdown",
   "id": "36fb66e7-c84c-4b65-a756-cddfaa748f1f",
   "metadata": {},
   "source": [
    "seems like we write arbitrary metadata fields. To delete the key, set it to \"\"\n"
   ]
  },
  {
   "cell_type": "code",
   "execution_count": null,
   "id": "6e83b615-edef-4754-88b2-f747a42668ea",
   "metadata": {
    "tags": []
   },
   "outputs": [],
   "source": [
    "%%pybash\n",
    "\n",
    "ezid s \"{EZID_USER}:{EZID_PASSWD}\" create! ark:/{TEST_NAAN}/{TEST_SHOULDER}/00/a5 \\\n",
    "    _status public \\\n",
    "    erc.who \"Raymond Yee\" \\\n",
    "    erc.what \"testing ark 00/05\" \\\n",
    "    erc.when \"(:unkn) Unknown time\" \\\n",
    "    ry.who \"\" \\\n",
    "    profile erc"
   ]
  },
  {
   "cell_type": "code",
   "execution_count": null,
   "id": "6e721577-ca0c-4bc1-b068-bbe0becd9b58",
   "metadata": {
    "tags": []
   },
   "outputs": [],
   "source": [
    "from itertools import chain\n",
    "\n",
    "client.args.server = \"s\"\n",
    "\n",
    "metadata_ = {\n",
    "  \"ry.who\": \"Raymond Yee\",\n",
    "  \"erc.who\": \"Nobody!\",\n",
    "  \"profile\": \"erc\",\n",
    "  \"erc.what\": \"testing ark 00/05\",\n",
    "  \"erc.when\": \"(:unkn) Unknown time\"\n",
    "}\n",
    "\n",
    "\n",
    "client.args.operation = ['create!', f'ark:/{TEST_NAAN}/{TEST_SHOULDER}/00/a5'] + list(chain(*metadata_.items()))\n",
    "r = client.operation()\n",
    "r"
   ]
  },
  {
   "cell_type": "code",
   "execution_count": null,
   "id": "29295e5f-d01d-4f4e-a68a-668294a9d352",
   "metadata": {},
   "outputs": [],
   "source": [
    "# testing prefix matching\n",
    "\n"
   ]
  },
  {
   "cell_type": "code",
   "execution_count": null,
   "id": "105c0dd2-dedd-4fd2-92dd-c49e89547443",
   "metadata": {
    "tags": []
   },
   "outputs": [],
   "source": [
    "%%pybash\n",
    "\n",
    "ezid s \"{EZID_USER}:{EZID_PASSWD}\" view ark:/{TEST_NAAN}/{TEST_SHOULDER}/00/a5\n"
   ]
  },
  {
   "cell_type": "code",
   "execution_count": null,
   "id": "10bed3d1-a165-4b2f-85cc-d322dc5d1a14",
   "metadata": {},
   "outputs": [],
   "source": [
    "%%pybash\n",
    "\n",
    "ezid -h"
   ]
  },
  {
   "cell_type": "code",
   "execution_count": null,
   "id": "8b5920f0-4dab-4825-a210-3c3de638171a",
   "metadata": {
    "tags": []
   },
   "outputs": [],
   "source": [
    "%%pybash\n",
    "\n",
    "ezid s \"{EZID_USER}:{EZID_PASSWD}\" view \"ark:/{TEST_NAAN}/{TEST_SHOULDER}/00/a7\""
   ]
  },
  {
   "cell_type": "markdown",
   "id": "30f0ad48-1ca0-41b8-a361-2055e8677132",
   "metadata": {},
   "source": [
    "# Preregistration shoulder"
   ]
  },
  {
   "cell_type": "code",
   "execution_count": null,
   "id": "d84ae8cd-cf6c-4434-9b9a-0dd9d5a6f879",
   "metadata": {},
   "outputs": [],
   "source": [
    "# issue of allowable characters\n",
    "\n",
    "from urllib.parse import quote, unquote\n",
    "import re\n",
    "\n",
    "\n",
    "quote(\"A.B\")\n",
    "\n",
    "test_string = '12hello.there'\n",
    "re.match(r'^[\\w\\-_.~]*$', test_string)\n",
    "\n",
    "def uri_unreserved(s):\n",
    "    \"\"\"\n",
    "    \n",
    "    \n",
    "    \"\"\"\n",
    "    return re.match(r'^[\\w\\-_.~]*$', s) is not None\n",
    "\n",
    "\n",
    "\n",
    "quote(\"我\") == '%E6%88%91'\n",
    "\n",
    "uri_unreserved(test_string)\n",
    "\n"
   ]
  },
  {
   "cell_type": "markdown",
   "id": "223f9b04-ee0f-4697-a0cd-e1a0bba664ed",
   "metadata": {},
   "source": [
    "# Analyzing OpenContext arks"
   ]
  },
  {
   "cell_type": "code",
   "execution_count": null,
   "id": "f3033de5-e889-46d8-b630-62b28da890ab",
   "metadata": {
    "tags": []
   },
   "outputs": [],
   "source": [
    "import pandas as pd\n",
    "from pandas import DataFrame, Series, Index\n",
    "import numpy as np"
   ]
  },
  {
   "cell_type": "code",
   "execution_count": null,
   "id": "7de93bb5-bee6-4a94-b673-fb2aab475040",
   "metadata": {
    "tags": []
   },
   "outputs": [],
   "source": [
    "df = pd.read_csv(\"data/5lrRHNLMtGqBVN8d.csv\")\n",
    "df.head(2)"
   ]
  },
  {
   "cell_type": "code",
   "execution_count": null,
   "id": "5396fcb8-7008-44a8-81b8-17e0007874f6",
   "metadata": {
    "tags": []
   },
   "outputs": [],
   "source": [
    "len(df)"
   ]
  },
  {
   "cell_type": "code",
   "execution_count": null,
   "id": "266ed7e1-6245-4495-8d68-6d2c6ec255a0",
   "metadata": {
    "tags": []
   },
   "outputs": [],
   "source": [
    "df['_status'].value_counts()"
   ]
  }
 ],
 "metadata": {
  "kernelspec": {
   "display_name": "Python 3 (ipykernel)",
   "language": "python",
   "name": "python3"
  },
  "language_info": {
   "codemirror_mode": {
    "name": "ipython",
    "version": 3
   },
   "file_extension": ".py",
   "mimetype": "text/x-python",
   "name": "python",
   "nbconvert_exporter": "python",
   "pygments_lexer": "ipython3",
   "version": "3.11.3"
  }
 },
 "nbformat": 4,
 "nbformat_minor": 5
}
