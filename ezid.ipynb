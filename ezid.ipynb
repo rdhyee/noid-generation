{
 "cells": [
  {
   "cell_type": "raw",
   "id": "9a5f9d94-5f7a-4a7d-975e-c30bd5afd419",
   "metadata": {
    "tags": []
   },
   "source": [
    "%%bash\n",
    "\n",
    "./ezid_client_tools/ezid3.py $EZID_USER:$EZID_PASSWD login"
   ]
  },
  {
   "cell_type": "raw",
   "id": "f97b8663-0b34-4256-a65d-5d8264d50595",
   "metadata": {
    "tags": []
   },
   "source": [
    "%%bash\n",
    "\n",
    "SESSIONID=?????\n",
    "\n",
    "./ezid_client_tools/ezid3.py sessionid=$SESSIONID s"
   ]
  },
  {
   "cell_type": "code",
   "execution_count": null,
   "id": "db0a8f48-a8fc-4c32-90e3-87fc0eed995d",
   "metadata": {
    "tags": []
   },
   "outputs": [],
   "source": [
    "%%bash\n",
    "\n",
    "./ezid/client.py p $EZID_USER:$EZID_PASSWD login"
   ]
  },
  {
   "cell_type": "code",
   "execution_count": null,
   "id": "9312ef85-c837-4359-87e6-d6144698b554",
   "metadata": {
    "tags": []
   },
   "outputs": [],
   "source": [
    "%%bash\n",
    "\n",
    "\n",
    "./ezid/client.py p $EZID_USER:$EZID_PASSWD view ark:/28722/k2154wc6r "
   ]
  },
  {
   "cell_type": "code",
   "execution_count": null,
   "id": "97992aef-171b-4721-be86-52ea4c6947cf",
   "metadata": {
    "tags": []
   },
   "outputs": [],
   "source": [
    "%%bash\n",
    "\n",
    "curl -u $EZID_USER:$EZID_PASSWD -d format=anvl -d type=ark \\\n",
    "  -d permanence=real \\\n",
    "  -d createdAfter=2023-01-01T00:00:00Z \\\n",
    "  https://ezid.cdlib.org/download_request"
   ]
  },
  {
   "cell_type": "code",
   "execution_count": null,
   "id": "310c2484-d17a-49d5-8419-fedf062d3985",
   "metadata": {
    "tags": []
   },
   "outputs": [],
   "source": [
    "%%bash\n",
    "\n",
    "curl -u $EZID_USER:$EZID_PASSWD \\\n",
    "  -d format=csv \\\n",
    "  -d column=_id \\\n",
    "  -d column=erc.who \\\n",
    "  -d type=ark \\\n",
    "  -d permanence=real \\\n",
    "  -d createdAfter=2023-01-01T00:00:00Z \\\n",
    "  https://ezid.cdlib.org/download_request\n",
    "\n"
   ]
  },
  {
   "cell_type": "code",
   "execution_count": null,
   "id": "343b5ecf-deb5-4ad4-8a9b-11afad362ac9",
   "metadata": {
    "tags": []
   },
   "outputs": [],
   "source": [
    "%%bash\n",
    "\n",
    "curl -u $EZID_USER:$EZID_PASSWD \\\n",
    "  -d format=csv \\\n",
    "  -d column=_id \\\n",
    "  -d column=erc.who \\\n",
    "  -d column=erc.what \\\n",
    "  -d column=erc.when \\\n",
    "  -d column=_owner \\\n",
    "  -d column=_ownergroup \\\n",
    "  -d column=_created \\\n",
    "  -d column=_updated \\\n",
    "  -d column=_profile \\\n",
    "  -d column=_target \\\n",
    "  -d column=_status \\\n",
    "  -d column=_export \\\n",
    "  -d type=ark \\\n",
    "  -d permanence=real \\\n",
    "  -d createdAfter=1970-01-01T00:00:00Z \\\n",
    "  https://ezid.cdlib.org/download_request\n",
    "\n",
    "\n"
   ]
  },
  {
   "cell_type": "code",
   "execution_count": null,
   "id": "84c565c4-7f68-4cf0-9dca-f981f4360ddb",
   "metadata": {},
   "outputs": [],
   "source": [
    ":: ark:/28722/k20298q7t\n",
    "erc.who: Katherine BRUNSON, 博凯龄; Zhipeng LI, Katherine BRUNSON, 李志鹏，博凯龄; Rowan FLAD, Katherine BRUNSON, 付罗文，博凯龄\n",
    "erc.what: Carved--rectangular with pointed ends, 凿--尖头长方形\n",
    "erc.when: 2023-03-07\n",
    "_owner: opencontext\n",
    "_ownergroup: ucblibrary\n",
    "_created: 1678249593\n",
    "_updated: 1678249593\n",
    "_profile: erc\n",
    "_target: https://opencontext.org/types/4af382ed-96f3-47b5-ac1f-842bc7b8dc83\n",
    "_status: public\n",
    "_export: yes\n"
   ]
  },
  {
   "cell_type": "markdown",
   "id": "44d2c01f-2bdb-4290-9c5a-197bbb7e2f30",
   "metadata": {},
   "source": [
    "# Subprocess calls\n",
    "\n",
    "Forget about trying to reach into ezid.Client -- let's call client.py via subprocess"
   ]
  },
  {
   "cell_type": "code",
   "execution_count": null,
   "id": "dab7cf59-a5d5-4fa3-a910-2aa679910621",
   "metadata": {
    "tags": []
   },
   "outputs": [],
   "source": [
    "import os\n",
    "import subprocess\n",
    "import ezid\n",
    "\n",
    "EZID_CLIENT = \"./ezid/client.py\"\n",
    "EZID_USER = os.environ.get(\"EZID_USER\")\n",
    "EZID_PASSWD = os.environ.get(\"EZID_PASSWD\")\n",
    "\n",
    "anvl = ezid.ANVL()\n",
    "\n",
    "cmd = f\"\"\"{EZID_CLIENT} p \"{EZID_USER}:{EZID_PASSWD}\" view ark:/28722/k2154wc6r\"\"\"\n",
    "r = subprocess.run(cmd, shell=True, capture_output=True)\n",
    "\n",
    "print(anvl.parse_anvl_str(r.stdout))\n"
   ]
  },
  {
   "cell_type": "markdown",
   "id": "3a5d177e-926b-4f24-8ff0-05d24b86037a",
   "metadata": {
    "tags": []
   },
   "source": [
    "# New test arks"
   ]
  },
  {
   "cell_type": "code",
   "execution_count": null,
   "id": "af46aac1-5c7e-42c8-a1a1-b7c8c8a03576",
   "metadata": {},
   "outputs": [],
   "source": [
    "TEST_NAAN = \"99999\"\n",
    "TEST_SHOULDER = \"fk4\"\n"
   ]
  },
  {
   "cell_type": "code",
   "execution_count": null,
   "id": "863b0ad0-ad01-44ab-8860-f7a71e267bff",
   "metadata": {},
   "outputs": [],
   "source": [
    "# write a public fake ARK"
   ]
  },
  {
   "cell_type": "code",
   "execution_count": null,
   "id": "3c66a61a-8440-46c6-96a8-4a93eb1573bb",
   "metadata": {
    "tags": []
   },
   "outputs": [],
   "source": [
    "%%bash\n",
    "\n",
    "./ezid/client.py p $EZID_USER:$EZID_PASSWD create! ark:/99999/fk4aa/00/a5"
   ]
  },
  {
   "cell_type": "code",
   "execution_count": null,
   "id": "105c0dd2-dedd-4fd2-92dd-c49e89547443",
   "metadata": {
    "tags": []
   },
   "outputs": [],
   "source": [
    "%%bash\n",
    "\n",
    "./ezid/client.py p $EZID_USER:$EZID_PASSWD view ark:/99999/fk4aa/00/a5"
   ]
  },
  {
   "cell_type": "markdown",
   "id": "223f9b04-ee0f-4697-a0cd-e1a0bba664ed",
   "metadata": {},
   "source": [
    "# Analyzing OpenContext arks"
   ]
  },
  {
   "cell_type": "code",
   "execution_count": null,
   "id": "f3033de5-e889-46d8-b630-62b28da890ab",
   "metadata": {
    "tags": []
   },
   "outputs": [],
   "source": [
    "import pandas as pd\n",
    "from pandas import DataFrame, Series, Index\n",
    "import numpy as np"
   ]
  },
  {
   "cell_type": "code",
   "execution_count": null,
   "id": "7de93bb5-bee6-4a94-b673-fb2aab475040",
   "metadata": {
    "tags": []
   },
   "outputs": [],
   "source": [
    "df = pd.read_csv(\"data/5lrRHNLMtGqBVN8d.csv\")\n",
    "df.head(2)"
   ]
  },
  {
   "cell_type": "code",
   "execution_count": null,
   "id": "5396fcb8-7008-44a8-81b8-17e0007874f6",
   "metadata": {
    "tags": []
   },
   "outputs": [],
   "source": [
    "len(df)"
   ]
  },
  {
   "cell_type": "code",
   "execution_count": null,
   "id": "266ed7e1-6245-4495-8d68-6d2c6ec255a0",
   "metadata": {
    "tags": []
   },
   "outputs": [],
   "source": [
    "df['_status'].value_counts()"
   ]
  }
 ],
 "metadata": {
  "kernelspec": {
   "display_name": "Python 3 (ipykernel)",
   "language": "python",
   "name": "python3"
  },
  "language_info": {
   "codemirror_mode": {
    "name": "ipython",
    "version": 3
   },
   "file_extension": ".py",
   "mimetype": "text/x-python",
   "name": "python",
   "nbconvert_exporter": "python",
   "pygments_lexer": "ipython3",
   "version": "3.10.10"
  }
 },
 "nbformat": 4,
 "nbformat_minor": 5
}
