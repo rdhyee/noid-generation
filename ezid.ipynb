{
 "cells": [
  {
   "cell_type": "code",
   "execution_count": null,
   "id": "0b97bbf0-8b51-49c7-bf1e-ac8748d15eb2",
   "metadata": {
    "tags": []
   },
   "outputs": [],
   "source": [
    "# https://stackoverflow.com/a/67029719/7782\n",
    "from IPython import get_ipython\n",
    "from IPython.core.magic import register_cell_magic\n",
    "\n",
    "ipython = get_ipython()\n",
    "\n",
    "@register_cell_magic\n",
    "def pybash(line, cell):\n",
    "    ipython.run_cell_magic('bash', '', cell.format(**globals()))"
   ]
  },
  {
   "cell_type": "code",
   "execution_count": null,
   "id": "d15806c5-4c33-4138-a10d-6a0260e8dfde",
   "metadata": {
    "tags": []
   },
   "outputs": [],
   "source": [
    "import ezid_client_tools as ect\n",
    "from ezid_client_tools.utils import ANVL\n",
    "\n",
    "import argparse\n",
    "import settings\n",
    "\n",
    "import os\n",
    "import types\n"
   ]
  },
  {
   "cell_type": "code",
   "execution_count": 2,
   "id": "99481ff2-323b-45e2-ac97-9c626446e65e",
   "metadata": {},
   "outputs": [],
   "source": [
    "import structured_ezid as sezid"
   ]
  },
  {
   "cell_type": "code",
   "execution_count": null,
   "id": "537eb66f-c00d-4d23-8c61-4ec529a09ea5",
   "metadata": {
    "tags": []
   },
   "outputs": [],
   "source": [
    "EZID_USER = os.environ.get('EZID_USER')\n",
    "EZID_PASSWD = os.environ.get('EZID_PASSWD')\n",
    "\n",
    "if (EZID_USER is None) or (EZID_PASSWD is None):\n",
    "    import settings\n",
    "    EZID_USER = settings.EZID_USER\n",
    "    EZID_PASSWD = settings.EZID_PASSWD\n"
   ]
  },
  {
   "cell_type": "code",
   "execution_count": null,
   "id": "3009e85b-6504-4839-8503-fc4edac6f499",
   "metadata": {
    "tags": []
   },
   "outputs": [],
   "source": [
    "cclient = ect.ConsoleClient()\n",
    "\n",
    "cclient.args.credentials = f\"{EZID_USER}:{EZID_PASSWD}\"\n",
    "cclient.args.server = \"p\"\n",
    "\n",
    "cclient.args.operation = ['view', 'ark:/28722/k2154wc6r']\n",
    "\n",
    "cclient.operation()"
   ]
  },
  {
   "cell_type": "code",
   "execution_count": null,
   "id": "152286ec-8be0-4768-ab14-55a719527cd1",
   "metadata": {
    "tags": []
   },
   "outputs": [],
   "source": [
    "client = ect.Client()\n",
    "\n",
    "client.args.credentials = f\"{EZID_USER}:{EZID_PASSWD}\"\n",
    "client.args.server = \"p\"\n",
    "\n",
    "client.args.operation = ['view', 'ark:/28722/k2154wc6r']"
   ]
  },
  {
   "cell_type": "code",
   "execution_count": null,
   "id": "b3940962-7b85-4461-b462-f1ce4690f80b",
   "metadata": {
    "tags": []
   },
   "outputs": [],
   "source": [
    "r = client.operation()\n",
    "ANVL.parse_anvl_str(r.encode('utf-8'))"
   ]
  },
  {
   "cell_type": "code",
   "execution_count": null,
   "id": "c7543556-c846-400d-a068-e245253ce97b",
   "metadata": {
    "tags": []
   },
   "outputs": [],
   "source": [
    "%%pybash\n",
    "\n",
    "ezid p \"{EZID_USER}:{EZID_PASSWD}\" view ark:/28722/k2154wc6r "
   ]
  },
  {
   "cell_type": "code",
   "execution_count": null,
   "id": "97992aef-171b-4721-be86-52ea4c6947cf",
   "metadata": {
    "tags": []
   },
   "outputs": [],
   "source": [
    "%%pybash\n",
    "\n",
    "curl -u \"{EZID_USER}:{EZID_PASSWD}\" -d format=anvl -d type=ark \\\n",
    "  -d permanence=real \\\n",
    "  -d createdAfter=2023-01-01T00:00:00Z \\\n",
    "  https://ezid.cdlib.org/download_request"
   ]
  },
  {
   "cell_type": "code",
   "execution_count": null,
   "id": "310c2484-d17a-49d5-8419-fedf062d3985",
   "metadata": {
    "tags": []
   },
   "outputs": [],
   "source": [
    "%%pybash\n",
    "\n",
    "curl -u \"{EZID_USER}:{EZID_PASSWD}\" \\\n",
    "  -d format=csv \\\n",
    "  -d column=_id \\\n",
    "  -d column=erc.who \\\n",
    "  -d type=ark \\\n",
    "  -d permanence=real \\\n",
    "  -d createdAfter=2023-01-01T00:00:00Z \\\n",
    "  https://ezid.cdlib.org/download_request\n"
   ]
  },
  {
   "cell_type": "code",
   "execution_count": null,
   "id": "343b5ecf-deb5-4ad4-8a9b-11afad362ac9",
   "metadata": {
    "tags": []
   },
   "outputs": [],
   "source": [
    "%%pybash\n",
    "\n",
    "curl -u \"{EZID_USER}:{EZID_PASSWD}\" \\\n",
    "  -d format=csv \\\n",
    "  -d column=_id \\\n",
    "  -d column=erc.who \\\n",
    "  -d column=erc.what \\\n",
    "  -d column=erc.when \\\n",
    "  -d column=_owner \\\n",
    "  -d column=_ownergroup \\\n",
    "  -d column=_created \\\n",
    "  -d column=_updated \\\n",
    "  -d column=_profile \\\n",
    "  -d column=_target \\\n",
    "  -d column=_status \\\n",
    "  -d column=_export \\\n",
    "  -d type=ark \\\n",
    "  -d permanence=real \\\n",
    "  -d createdAfter=2023-04-01T00:00:00Z \\\n",
    "  https://ezid.cdlib.org/download_request\n",
    "\n"
   ]
  },
  {
   "cell_type": "code",
   "execution_count": null,
   "id": "eae0b4e2-c67f-406d-bb3d-b9a61f9754ad",
   "metadata": {
    "tags": []
   },
   "outputs": [],
   "source": [
    "import requests\n",
    "url = 'https://ezid.cdlib.org/download_request'\n",
    "data = {\n",
    "    'format': 'csv',\n",
    "    'column': ['_id', 'erc.who', 'erc.what', 'erc.when', '_owner', '_ownergroup', '_created', '_updated', '_profile', '_target', '_status', '_export'],\n",
    "    'type': 'ark',\n",
    "    'permanence': 'real',\n",
    "    'createdAfter': '2023-04-01T00:00:00Z'\n",
    "}\n",
    "\n",
    "response = requests.post(url, auth=(EZID_USER, EZID_PASSWD), data=data)\n",
    "\n",
    "if response.status_code == 200:\n",
    "    print(response.text)\n",
    "else:\n",
    "    print(f\"Error: {response.status_code}\")"
   ]
  },
  {
   "cell_type": "code",
   "execution_count": null,
   "id": "5562d164-2800-4824-a131-8b0b97d9cf70",
   "metadata": {
    "tags": []
   },
   "outputs": [],
   "source": [
    "response.status_code, response.text"
   ]
  },
  {
   "cell_type": "markdown",
   "id": "3a5d177e-926b-4f24-8ff0-05d24b86037a",
   "metadata": {
    "tags": []
   },
   "source": [
    "# Test arks"
   ]
  },
  {
   "cell_type": "code",
   "execution_count": null,
   "id": "af46aac1-5c7e-42c8-a1a1-b7c8c8a03576",
   "metadata": {
    "tags": []
   },
   "outputs": [],
   "source": [
    "TEST_NAAN = \"99999\"\n",
    "TEST_SHOULDER = \"fk4\"\n"
   ]
  },
  {
   "cell_type": "code",
   "execution_count": null,
   "id": "863b0ad0-ad01-44ab-8860-f7a71e267bff",
   "metadata": {
    "tags": []
   },
   "outputs": [],
   "source": [
    "# write a public fake ARK"
   ]
  },
  {
   "cell_type": "markdown",
   "id": "36fb66e7-c84c-4b65-a756-cddfaa748f1f",
   "metadata": {},
   "source": [
    "seems like we write arbitrary metadata fields. To delete the key, set it to \"\"\n"
   ]
  },
  {
   "cell_type": "code",
   "execution_count": null,
   "id": "6e83b615-edef-4754-88b2-f747a42668ea",
   "metadata": {
    "tags": []
   },
   "outputs": [],
   "source": [
    "%%pybash\n",
    "\n",
    "ezid s \"{EZID_USER}:{EZID_PASSWD}\" create! ark:/{TEST_NAAN}/{TEST_SHOULDER}/00/a5 \\\n",
    "    _status public \\\n",
    "    erc.who \"Raymond Yee\" \\\n",
    "    erc.what \"testing ark 00/05\" \\\n",
    "    erc.when \"(:unkn) Unknown time\" \\\n",
    "    ry.who \"\" \\\n",
    "    profile erc"
   ]
  },
  {
   "cell_type": "code",
   "execution_count": null,
   "id": "6e721577-ca0c-4bc1-b068-bbe0becd9b58",
   "metadata": {},
   "outputs": [],
   "source": [
    "from itertools import chain\n",
    "\n",
    "client.args.server = \"s\"\n",
    "\n",
    "metadata_ = {\n",
    "  \"ry.who\": \"Raymond Yee\",\n",
    "  \"erc.who\": \"Nobody!\",\n",
    "  \"profile\": \"erc\",\n",
    "  \"erc.what\": \"testing ark 00/05\",\n",
    "  \"erc.when\": \"(:unkn) Unknown time\"\n",
    "}\n",
    "\n",
    "\n",
    "client.args.operation = ['create!', f'ark:/{TEST_NAAN}/{TEST_SHOULDER}/00/a5'] + list(chain(*metadata_.items()))\n",
    "r = client.operation()\n",
    "r"
   ]
  },
  {
   "cell_type": "code",
   "execution_count": null,
   "id": "29295e5f-d01d-4f4e-a68a-668294a9d352",
   "metadata": {},
   "outputs": [],
   "source": [
    "# testing prefix matching\n",
    "\n"
   ]
  },
  {
   "cell_type": "code",
   "execution_count": null,
   "id": "105c0dd2-dedd-4fd2-92dd-c49e89547443",
   "metadata": {
    "tags": []
   },
   "outputs": [],
   "source": [
    "%%pybash\n",
    "\n",
    "ezid s \"{EZID_USER}:{EZID_PASSWD}\" view ark:/{TEST_NAAN}/{TEST_SHOULDER}/00/a5\n"
   ]
  },
  {
   "cell_type": "code",
   "execution_count": null,
   "id": "10bed3d1-a165-4b2f-85cc-d322dc5d1a14",
   "metadata": {},
   "outputs": [],
   "source": [
    "%%pybash\n",
    "\n",
    "ezid -h"
   ]
  },
  {
   "cell_type": "markdown",
   "id": "39fc8b65-3b70-45c5-ab16-f57ac62c5e3f",
   "metadata": {},
   "source": [
    "# Reserved IDs: creating and deleting"
   ]
  },
  {
   "cell_type": "code",
   "execution_count": null,
   "id": "df2d2fa0-00ed-4b0c-86c7-13c557ca12c5",
   "metadata": {},
   "outputs": [],
   "source": [
    "%%pybash\n",
    "\n",
    "# test shoulder and reserved id\n",
    "# _status = reserved\n",
    "\n",
    "ezid s \"{EZID_USER}:{EZID_PASSWD}\" create! \"ark:/{TEST_NAAN}/{TEST_SHOULDER}/00/a7\" \\\n",
    "    _status reserved \\\n",
    "    erc.who \"Anthony Tuck\" \\\n",
    "    erc.what \"Photo 19660118 from Italy/Poggio Civitate/Tesoro/Tesoro 2F/1966, ID:476/PC 19660118\" \\\n",
    "    erc.when \"2017-10-04\" \\\n",
    "    profile erc"
   ]
  },
  {
   "cell_type": "code",
   "execution_count": null,
   "id": "8b5920f0-4dab-4825-a210-3c3de638171a",
   "metadata": {},
   "outputs": [],
   "source": [
    "%%pybash\n",
    "\n",
    "ezid s \"{EZID_USER}:{EZID_PASSWD}\" view \"ark:/{TEST_NAAN}/{TEST_SHOULDER}/00/a7\""
   ]
  },
  {
   "cell_type": "code",
   "execution_count": null,
   "id": "687fe3c4-d900-409a-a79b-d758f0ea11d6",
   "metadata": {},
   "outputs": [],
   "source": [
    "%%pybash\n",
    "\n",
    "ezid s \"{EZID_USER}:{EZID_PASSWD}\" delete \"ark:/{TEST_NAAN}/{TEST_SHOULDER}/00/a6\""
   ]
  },
  {
   "cell_type": "markdown",
   "id": "30f0ad48-1ca0-41b8-a361-2055e8677132",
   "metadata": {},
   "source": [
    "# Preregistration shoulder"
   ]
  },
  {
   "cell_type": "code",
   "execution_count": null,
   "id": "9eadfc2c-8496-4251-861a-794709277a37",
   "metadata": {
    "tags": []
   },
   "outputs": [],
   "source": [
    "# New shoulder\n",
    "\n",
    "OC_NAAN = \"28722\"\n",
    "OC_PREREG_SHOULDER = \"r2\"\n"
   ]
  },
  {
   "cell_type": "code",
   "execution_count": null,
   "id": "d84ae8cd-cf6c-4434-9b9a-0dd9d5a6f879",
   "metadata": {},
   "outputs": [],
   "source": [
    "# issue of allowable characters\n",
    "\n",
    "from urllib.parse import quote, unquote\n",
    "import re\n",
    "\n",
    "\n",
    "quote(\"A.B\")\n",
    "\n",
    "test_string = '12hello.there'\n",
    "re.match(r'^[\\w\\-_.~]*$', test_string)\n",
    "\n",
    "def uri_unreserved(s):\n",
    "    \"\"\"\n",
    "    \n",
    "    \n",
    "    \"\"\"\n",
    "    return re.match(r'^[\\w\\-_.~]*$', s) is not None\n",
    "\n",
    "\n",
    "\n",
    "# lowercase, numbers\n",
    "\n",
    "\n",
    "\n",
    "quote(\"我\") == '%E6%88%91'\n",
    "\n",
    "uri_unreserved(test_string)\n"
   ]
  },
  {
   "cell_type": "code",
   "execution_count": null,
   "id": "541c0e88-02a9-403a-b64d-129f79226bd8",
   "metadata": {},
   "outputs": [],
   "source": [
    "# ark string checker\n",
    "# check on elimination of hyphens and terminal periods and /\n",
    "\n",
    "\"\"\"\n",
    "\n",
    "\"\"\""
   ]
  },
  {
   "cell_type": "code",
   "execution_count": null,
   "id": "a33d3bd2-c2f3-4c98-8b58-45f9c8516082",
   "metadata": {},
   "outputs": [],
   "source": [
    "class EZIDIdentifier():\n",
    "    pass\n",
    "\n",
    "class DOIIdentifier():\n",
    "    pass\n",
    "\n",
    "class ARKIdentifier(EZIDIdentifier):\n",
    "    def __init__(self, naan, shoulder, postfix, new_style=False):\n",
    "        self.naan = naan\n",
    "        self.shoulder = shoulder\n",
    "        self.postfix = postfix\n",
    "        self.new_style = new_style\n",
    "    def __repr__(self):\n",
    "        label = \"ark:\" if self.new_style else \"ark:/\"\n",
    "        return f\"{label}{self.naan}/{self.shoulder}{self.postfix}\"\n",
    "            \n",
    "\n",
    "class Client2(ect.Client):\n",
    "    def create_identifier(self, id_, metadata=None, update=True):\n",
    "        self.args.operation = [f\"\"\"create{\"!\" if update else \"\"}\"\"\", id_] \n",
    "        if metadata is not None:\n",
    "            self.args.operation += list(chain(*metadata_.items()))\n",
    "        return self.operation()\n",
    "\n",
    "    def view_identifier(self, id_, prefix_matching=False):\n",
    "        self.args.operation = [f\"\"\"view{\"!\" if prefix_matching else \"\"}\"\"\", id_]\n",
    "        r = client.operation()\n",
    "        return ANVL.parse_anvl_str(r.encode('utf-8'))\n",
    "    "
   ]
  },
  {
   "cell_type": "code",
   "execution_count": null,
   "id": "e49a3886-2e34-4ced-9491-ea344a7cab8f",
   "metadata": {},
   "outputs": [],
   "source": [
    "from typing import Union, Optional\n",
    "\n",
    "\n",
    "class EZIDIdentifier:\n",
    "    pass\n",
    "\n",
    "\n",
    "class DOIIdentifier:\n",
    "    pass\n",
    "\n",
    "\n",
    "class ARKIdentifier(EZIDIdentifier):\n",
    "    def __init__(self, naan: str, shoulder: str, postfix: str, new_style: bool = False):\n",
    "        self.naan = naan\n",
    "        self.shoulder = shoulder\n",
    "        self.postfix = postfix\n",
    "        self.new_style = new_style\n",
    "\n",
    "    def __repr__(self):\n",
    "        label = \"ark:\" if self.new_style else \"ark:/\"\n",
    "        return f\"{label}{self.naan}/{self.shoulder}{self.postfix}\"\n",
    "\n",
    "\n",
    "class Client2(ect.Client):\n",
    "    def create_identifier(self, id_: Union[str, ARKIdentifier], metadata: Optional[dict] = None, update: bool = True):\n",
    "        self.args.operation = [f\"\"\"create{\"!\" if update else \"\"}\"\"\", id_]\n",
    "        if metadata is not None:\n",
    "            self.args.operation += list(chain(*metadata.items()))\n",
    "        return self.operation()\n",
    "\n",
    "    def view_identifier(self, id_: Union[str, ARKIdentifier], prefix_matching: bool = False):\n",
    "        self.args.operation = [f\"\"\"view{\"!\" if prefix_matching else \"\"}\"\"\", id_]\n",
    "        r = self.operation()\n",
    "        return ANVL.parse_anvl_str(r.encode('utf-8'))"
   ]
  },
  {
   "cell_type": "code",
   "execution_count": null,
   "id": "40219c1d-97e1-4408-a0b4-93cf962b29b7",
   "metadata": {},
   "outputs": [],
   "source": [
    "client2 = Client2()\n",
    "client2.args.credentials = f\"{EZID_USER}:{EZID_PASSWD}\"\n",
    "client2.args.server = \"s\"\n",
    "\n",
    "ark_ = ARKIdentifier(TEST_NAAN, TEST_SHOULDER, \"/00/a5\")\n",
    "ark_\n",
    "\n",
    "client2.view_identifier(str(ark_))"
   ]
  },
  {
   "cell_type": "markdown",
   "id": "223f9b04-ee0f-4697-a0cd-e1a0bba664ed",
   "metadata": {},
   "source": [
    "# Analyzing OpenContext arks"
   ]
  },
  {
   "cell_type": "code",
   "execution_count": null,
   "id": "f3033de5-e889-46d8-b630-62b28da890ab",
   "metadata": {
    "tags": []
   },
   "outputs": [],
   "source": [
    "import pandas as pd\n",
    "from pandas import DataFrame, Series, Index\n",
    "import numpy as np"
   ]
  },
  {
   "cell_type": "code",
   "execution_count": null,
   "id": "7de93bb5-bee6-4a94-b673-fb2aab475040",
   "metadata": {
    "tags": []
   },
   "outputs": [],
   "source": [
    "df = pd.read_csv(\"data/5lrRHNLMtGqBVN8d.csv\")\n",
    "df.head(2)"
   ]
  },
  {
   "cell_type": "code",
   "execution_count": null,
   "id": "5396fcb8-7008-44a8-81b8-17e0007874f6",
   "metadata": {
    "tags": []
   },
   "outputs": [],
   "source": [
    "len(df)"
   ]
  },
  {
   "cell_type": "code",
   "execution_count": null,
   "id": "266ed7e1-6245-4495-8d68-6d2c6ec255a0",
   "metadata": {
    "tags": []
   },
   "outputs": [],
   "source": [
    "df['_status'].value_counts()"
   ]
  }
 ],
 "metadata": {
  "kernelspec": {
   "display_name": "Python 3 (ipykernel)",
   "language": "python",
   "name": "python3"
  },
  "language_info": {
   "codemirror_mode": {
    "name": "ipython",
    "version": 3
   },
   "file_extension": ".py",
   "mimetype": "text/x-python",
   "name": "python",
   "nbconvert_exporter": "python",
   "pygments_lexer": "ipython3",
   "version": "3.9.16"
  }
 },
 "nbformat": 4,
 "nbformat_minor": 5
}
