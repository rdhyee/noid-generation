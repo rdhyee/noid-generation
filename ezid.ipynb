{
 "cells": [
  {
   "cell_type": "code",
   "execution_count": 1,
   "id": "0b97bbf0-8b51-49c7-bf1e-ac8748d15eb2",
   "metadata": {
    "tags": []
   },
   "outputs": [],
   "source": [
    "# https://stackoverflow.com/a/67029719/7782\n",
    "from IPython import get_ipython\n",
    "from IPython.core.magic import register_cell_magic\n",
    "\n",
    "ipython = get_ipython()\n",
    "\n",
    "@register_cell_magic\n",
    "def pybash(line, cell):\n",
    "    ipython.run_cell_magic('bash', '', cell.format(**globals()))"
   ]
  },
  {
   "cell_type": "code",
   "execution_count": 2,
   "id": "d15806c5-4c33-4138-a10d-6a0260e8dfde",
   "metadata": {
    "tags": []
   },
   "outputs": [],
   "source": [
    "import argparse\n",
    "import os\n",
    "import types\n",
    "\n",
    "\n",
    "import ezid_client_tools as ect\n",
    "from ezid_client_tools.utils import ANVL\n",
    "\n",
    "import structured_ezid as sezid\n",
    "\n",
    "import settings\n",
    "\n"
   ]
  },
  {
   "cell_type": "code",
   "execution_count": 3,
   "id": "537eb66f-c00d-4d23-8c61-4ec529a09ea5",
   "metadata": {
    "tags": []
   },
   "outputs": [],
   "source": [
    "EZID_USER = os.environ.get('EZID_USER')\n",
    "EZID_PASSWD = os.environ.get('EZID_PASSWD')\n",
    "\n",
    "if (EZID_USER is None) or (EZID_PASSWD is None):\n",
    "    import settings\n",
    "    EZID_USER = settings.EZID_USER\n",
    "    EZID_PASSWD = settings.EZID_PASSWD\n",
    "\n",
    "TEST_NAAN = \"99999\"\n",
    "TEST_SHOULDER = \"fk4\"\n",
    "TEST_ID = \"/00/a5\"\n",
    "\n",
    "# New shoulder\n",
    "\n",
    "OC_NAAN = \"28722\"\n",
    "OC_PREREG_SHOULDER = \"r2\""
   ]
  },
  {
   "cell_type": "code",
   "execution_count": 4,
   "id": "67e8586d-ec42-41cf-be02-741c42258710",
   "metadata": {},
   "outputs": [
    {
     "data": {
      "text/plain": [
       "LastUpdatedOrderedDict([('success', 'ark'),\n",
       "                        ('ry.who', 'Raymond Yee'),\n",
       "                        ('erc.who', 'Nobody?'),\n",
       "                        ('profile', 'erc'),\n",
       "                        ('erc.what', 'testing ark 00/05'),\n",
       "                        ('erc.when', '('),\n",
       "                        ('_owner', 'opencontext'),\n",
       "                        ('_ownergroup', 'ucblibrary'),\n",
       "                        ('_created', '1683902153'),\n",
       "                        ('_updated', '1684438102'),\n",
       "                        ('_profile', 'erc'),\n",
       "                        ('_target', 'https'),\n",
       "                        ('_status', 'public'),\n",
       "                        ('_export', 'yes')])"
      ]
     },
     "execution_count": 4,
     "metadata": {},
     "output_type": "execute_result"
    }
   ],
   "source": [
    "client2 = sezid.Client2()\n",
    "client2.args.credentials = f\"{EZID_USER}:{EZID_PASSWD}\"\n",
    "client2.args.server = \"s\"\n",
    "\n",
    "ark_ = sezid.ARKIdentifier(TEST_NAAN, TEST_SHOULDER, TEST_ID)\n",
    "ark_\n",
    "\n",
    "client2.view_identifier(ark_)"
   ]
  },
  {
   "cell_type": "code",
   "execution_count": 14,
   "id": "ae900e13-e05a-4222-bf4f-7fea1a95175b",
   "metadata": {},
   "outputs": [
    {
     "name": "stdout",
     "output_type": "stream",
     "text": [
      "HTTP Error 400: Bad Request\n",
      "<class 'ezid_client_tools.client.HTTPClientError'> HTTP Error 400: Bad Request\n"
     ]
    }
   ],
   "source": [
    "# check on prefix matching\n",
    "\n",
    "try:\n",
    "    client2.view_identifier(str(ark_) + \"/1234\", prefix_matching=False)\n",
    "except ect.ClientError as e:\n",
    "    print (e)\n",
    "    print (type(e), str(e))"
   ]
  },
  {
   "cell_type": "code",
   "execution_count": null,
   "id": "6d3582a6-18cb-421b-ad58-b33f1d59ebf5",
   "metadata": {},
   "outputs": [],
   "source": [
    "metadata_ = {\n",
    "  \"erc.who\": \"Nobody?\",\n",
    "  \"profile\": \"erc\",\n",
    "  \"erc.what\": \"testing ark 00/05\",\n",
    "  \"erc.when\": \"(:unkn) Unknown time\"\n",
    "}\n",
    "\n",
    "client2.create_identifier(ark_, metadata_)\n"
   ]
  },
  {
   "cell_type": "code",
   "execution_count": null,
   "id": "de310802-9b24-464e-9e8a-3d85d665e7e3",
   "metadata": {},
   "outputs": [],
   "source": [
    "# create and delete reserved UUID in the TEST NAAN/TEST SHOULDER space\n",
    "\n",
    "import uuid\n",
    "\n",
    "id_ = str(uuid.uuid4().hex).replace(\"-\", \"\")\n",
    "arkid_ = sezid.ARKIdentifier(TEST_NAAN, TEST_SHOULDER, id_)\n",
    "\n"
   ]
  },
  {
   "cell_type": "code",
   "execution_count": null,
   "id": "687fe3c4-d900-409a-a79b-d758f0ea11d6",
   "metadata": {},
   "outputs": [],
   "source": [
    "%%pybash\n",
    "\n",
    "ezid s \"{EZID_USER}:{EZID_PASSWD}\" delete \"ark:/{TEST_NAAN}/{TEST_SHOULDER}/00/a6\""
   ]
  },
  {
   "cell_type": "code",
   "execution_count": null,
   "id": "c7543556-c846-400d-a068-e245253ce97b",
   "metadata": {
    "tags": []
   },
   "outputs": [],
   "source": [
    "%%pybash\n",
    "\n",
    "ezid p \"{EZID_USER}:{EZID_PASSWD}\" view ark:/28722/k2154wc6r "
   ]
  },
  {
   "cell_type": "code",
   "execution_count": null,
   "id": "97992aef-171b-4721-be86-52ea4c6947cf",
   "metadata": {
    "tags": []
   },
   "outputs": [],
   "source": [
    "%%pybash\n",
    "\n",
    "curl -u \"{EZID_USER}:{EZID_PASSWD}\" -d format=anvl -d type=ark \\\n",
    "  -d permanence=real \\\n",
    "  -d createdAfter=2023-01-01T00:00:00Z \\\n",
    "  https://ezid.cdlib.org/download_request"
   ]
  },
  {
   "cell_type": "code",
   "execution_count": null,
   "id": "310c2484-d17a-49d5-8419-fedf062d3985",
   "metadata": {
    "tags": []
   },
   "outputs": [],
   "source": [
    "%%pybash\n",
    "\n",
    "curl -u \"{EZID_USER}:{EZID_PASSWD}\" \\\n",
    "  -d format=csv \\\n",
    "  -d column=_id \\\n",
    "  -d column=erc.who \\\n",
    "  -d type=ark \\\n",
    "  -d permanence=real \\\n",
    "  -d createdAfter=2023-01-01T00:00:00Z \\\n",
    "  https://ezid.cdlib.org/download_request\n"
   ]
  },
  {
   "cell_type": "code",
   "execution_count": null,
   "id": "343b5ecf-deb5-4ad4-8a9b-11afad362ac9",
   "metadata": {
    "tags": []
   },
   "outputs": [],
   "source": [
    "%%pybash\n",
    "\n",
    "curl -u \"{EZID_USER}:{EZID_PASSWD}\" \\\n",
    "  -d format=csv \\\n",
    "  -d column=_id \\\n",
    "  -d column=erc.who \\\n",
    "  -d column=erc.what \\\n",
    "  -d column=erc.when \\\n",
    "  -d column=_owner \\\n",
    "  -d column=_ownergroup \\\n",
    "  -d column=_created \\\n",
    "  -d column=_updated \\\n",
    "  -d column=_profile \\\n",
    "  -d column=_target \\\n",
    "  -d column=_status \\\n",
    "  -d column=_export \\\n",
    "  -d type=ark \\\n",
    "  -d permanence=real \\\n",
    "  -d createdAfter=2023-04-01T00:00:00Z \\\n",
    "  https://ezid.cdlib.org/download_request\n",
    "\n"
   ]
  },
  {
   "cell_type": "code",
   "execution_count": null,
   "id": "eae0b4e2-c67f-406d-bb3d-b9a61f9754ad",
   "metadata": {
    "tags": []
   },
   "outputs": [],
   "source": [
    "import requests\n",
    "url = 'https://ezid.cdlib.org/download_request'\n",
    "data = {\n",
    "    'format': 'csv',\n",
    "    'column': ['_id', 'erc.who', 'erc.what', 'erc.when', '_owner', '_ownergroup', '_created', '_updated', '_profile', '_target', '_status', '_export'],\n",
    "    'type': 'ark',\n",
    "    'permanence': 'real',\n",
    "    'createdAfter': '2023-04-01T00:00:00Z'\n",
    "}\n",
    "\n",
    "response = requests.post(url, auth=(EZID_USER, EZID_PASSWD), data=data)\n",
    "\n",
    "if response.status_code == 200:\n",
    "    print(response.text)\n",
    "else:\n",
    "    print(f\"Error: {response.status_code}\")"
   ]
  },
  {
   "cell_type": "code",
   "execution_count": null,
   "id": "5562d164-2800-4824-a131-8b0b97d9cf70",
   "metadata": {
    "tags": []
   },
   "outputs": [],
   "source": [
    "response.status_code, response.text"
   ]
  },
  {
   "cell_type": "code",
   "execution_count": null,
   "id": "863b0ad0-ad01-44ab-8860-f7a71e267bff",
   "metadata": {
    "tags": []
   },
   "outputs": [],
   "source": [
    "# write a public fake ARK"
   ]
  },
  {
   "cell_type": "markdown",
   "id": "36fb66e7-c84c-4b65-a756-cddfaa748f1f",
   "metadata": {},
   "source": [
    "seems like we write arbitrary metadata fields. To delete the key, set it to \"\"\n"
   ]
  },
  {
   "cell_type": "code",
   "execution_count": null,
   "id": "6e83b615-edef-4754-88b2-f747a42668ea",
   "metadata": {
    "tags": []
   },
   "outputs": [],
   "source": [
    "%%pybash\n",
    "\n",
    "ezid s \"{EZID_USER}:{EZID_PASSWD}\" create! ark:/{TEST_NAAN}/{TEST_SHOULDER}/00/a5 \\\n",
    "    _status public \\\n",
    "    erc.who \"Raymond Yee\" \\\n",
    "    erc.what \"testing ark 00/05\" \\\n",
    "    erc.when \"(:unkn) Unknown time\" \\\n",
    "    ry.who \"\" \\\n",
    "    profile erc"
   ]
  },
  {
   "cell_type": "code",
   "execution_count": null,
   "id": "6e721577-ca0c-4bc1-b068-bbe0becd9b58",
   "metadata": {},
   "outputs": [],
   "source": [
    "from itertools import chain\n",
    "\n",
    "client.args.server = \"s\"\n",
    "\n",
    "metadata_ = {\n",
    "  \"ry.who\": \"Raymond Yee\",\n",
    "  \"erc.who\": \"Nobody!\",\n",
    "  \"profile\": \"erc\",\n",
    "  \"erc.what\": \"testing ark 00/05\",\n",
    "  \"erc.when\": \"(:unkn) Unknown time\"\n",
    "}\n",
    "\n",
    "\n",
    "client.args.operation = ['create!', f'ark:/{TEST_NAAN}/{TEST_SHOULDER}/00/a5'] + list(chain(*metadata_.items()))\n",
    "r = client.operation()\n",
    "r"
   ]
  },
  {
   "cell_type": "code",
   "execution_count": null,
   "id": "29295e5f-d01d-4f4e-a68a-668294a9d352",
   "metadata": {},
   "outputs": [],
   "source": [
    "# testing prefix matching\n",
    "\n"
   ]
  },
  {
   "cell_type": "code",
   "execution_count": null,
   "id": "105c0dd2-dedd-4fd2-92dd-c49e89547443",
   "metadata": {
    "tags": []
   },
   "outputs": [],
   "source": [
    "%%pybash\n",
    "\n",
    "ezid s \"{EZID_USER}:{EZID_PASSWD}\" view ark:/{TEST_NAAN}/{TEST_SHOULDER}/00/a5\n"
   ]
  },
  {
   "cell_type": "code",
   "execution_count": null,
   "id": "10bed3d1-a165-4b2f-85cc-d322dc5d1a14",
   "metadata": {},
   "outputs": [],
   "source": [
    "%%pybash\n",
    "\n",
    "ezid -h"
   ]
  },
  {
   "cell_type": "markdown",
   "id": "39fc8b65-3b70-45c5-ab16-f57ac62c5e3f",
   "metadata": {},
   "source": [
    "# Reserved IDs: creating and deleting"
   ]
  },
  {
   "cell_type": "code",
   "execution_count": null,
   "id": "df2d2fa0-00ed-4b0c-86c7-13c557ca12c5",
   "metadata": {},
   "outputs": [],
   "source": [
    "%%pybash\n",
    "\n",
    "# test shoulder and reserved id\n",
    "# _status = reserved\n",
    "\n",
    "ezid s \"{EZID_USER}:{EZID_PASSWD}\" create! \"ark:/{TEST_NAAN}/{TEST_SHOULDER}/00/a7\" \\\n",
    "    _status reserved \\\n",
    "    erc.who \"Anthony Tuck\" \\\n",
    "    erc.what \"Photo 19660118 from Italy/Poggio Civitate/Tesoro/Tesoro 2F/1966, ID:476/PC 19660118\" \\\n",
    "    erc.when \"2017-10-04\" \\\n",
    "    profile erc"
   ]
  },
  {
   "cell_type": "code",
   "execution_count": null,
   "id": "8b5920f0-4dab-4825-a210-3c3de638171a",
   "metadata": {},
   "outputs": [],
   "source": [
    "%%pybash\n",
    "\n",
    "ezid s \"{EZID_USER}:{EZID_PASSWD}\" view \"ark:/{TEST_NAAN}/{TEST_SHOULDER}/00/a7\""
   ]
  },
  {
   "cell_type": "markdown",
   "id": "30f0ad48-1ca0-41b8-a361-2055e8677132",
   "metadata": {},
   "source": [
    "# Preregistration shoulder"
   ]
  },
  {
   "cell_type": "code",
   "execution_count": 53,
   "id": "d84ae8cd-cf6c-4434-9b9a-0dd9d5a6f879",
   "metadata": {},
   "outputs": [],
   "source": [
    "# issue of allowable characters\n",
    "\n",
    "from urllib.parse import quote, unquote\n",
    "import re\n",
    "\n",
    "\n",
    "quote(\"A.B\")\n",
    "\n",
    "test_string = '12hello.there'\n",
    "re.match(r'^[\\w\\-_.~]*$', test_string)\n",
    "\n",
    "def uri_unreserved(s):\n",
    "    \"\"\"\n",
    "    \n",
    "    \n",
    "    \"\"\"\n",
    "    return re.match(r'^[\\w\\-_.~]*$', s) is not None\n",
    "\n",
    "\n",
    "\n",
    "quote(\"我\") == '%E6%88%91'\n",
    "\n",
    "uri_unreserved(test_string)\n",
    "\n"
   ]
  },
  {
   "cell_type": "code",
   "execution_count": null,
   "id": "b8b8c98a-1a1a-4d03-bbc9-5950edb074fa",
   "metadata": {},
   "outputs": [],
   "source": []
  },
  {
   "cell_type": "markdown",
   "id": "eaf01262-7d96-4d90-9165-55e161172f57",
   "metadata": {},
   "source": [
    "# Pathlib \n",
    "\n",
    "How well can we use the pathlib to model the \"parts\" of the ARK?\n"
   ]
  },
  {
   "cell_type": "code",
   "execution_count": 10,
   "id": "a3fea6b8-7389-44c0-bd54-5051ee5469cf",
   "metadata": {},
   "outputs": [
    {
     "data": {
      "text/plain": [
       "os.PathLike"
      ]
     },
     "execution_count": 10,
     "metadata": {},
     "output_type": "execute_result"
    }
   ],
   "source": [
    "import pathlib\n",
    "import os\n",
    "\n",
    "\n",
    "p = pathlib.PurePath()\n",
    "os.PathLike"
   ]
  },
  {
   "cell_type": "code",
   "execution_count": 15,
   "id": "782f8d94-7b50-4291-b7bf-eb2d19ab86bf",
   "metadata": {},
   "outputs": [
    {
     "data": {
      "text/plain": [
       "PurePosixPath('a/b/c')"
      ]
     },
     "execution_count": 15,
     "metadata": {},
     "output_type": "execute_result"
    }
   ],
   "source": [
    "p = pathlib.PurePath(\"a/b/c\")\n",
    "p"
   ]
  },
  {
   "cell_type": "code",
   "execution_count": 22,
   "id": "050e0e8a-c6ca-4ecf-be06-f21ef54b8747",
   "metadata": {},
   "outputs": [
    {
     "data": {
      "text/plain": [
       "('c',\n",
       " PurePosixPath('a/b'),\n",
       " PurePosixPath('a'),\n",
       " PurePosixPath('.'),\n",
       " PurePosixPath('.'))"
      ]
     },
     "execution_count": 22,
     "metadata": {},
     "output_type": "execute_result"
    }
   ],
   "source": [
    "p.name, p.parent, p.parent.parent, p.parent.parent.parent, p.parent.parent.parent.parent"
   ]
  },
  {
   "cell_type": "code",
   "execution_count": 30,
   "id": "31eb06eb-1ac7-4d4e-85f6-91342d8cec78",
   "metadata": {},
   "outputs": [
    {
     "data": {
      "text/plain": [
       "('.py', 'd', PurePosixPath('a/b/c/d1.py'))"
      ]
     },
     "execution_count": 30,
     "metadata": {},
     "output_type": "execute_result"
    }
   ],
   "source": [
    "p1 = p / \"d.py\"\n",
    "p1.suffix, p1.stem, p1.with_name('d1.py')\n"
   ]
  },
  {
   "cell_type": "code",
   "execution_count": 29,
   "id": "41a5dd43-d098-4f9a-b7e5-3acba062a32a",
   "metadata": {},
   "outputs": [
    {
     "data": {
      "text/plain": [
       "'a/b/c'"
      ]
     },
     "execution_count": 29,
     "metadata": {},
     "output_type": "execute_result"
    }
   ],
   "source": [
    "\"/\".join(p.parts)"
   ]
  },
  {
   "cell_type": "code",
   "execution_count": 36,
   "id": "6ead5605-3f6c-46b1-b086-bd6d7b66ef41",
   "metadata": {},
   "outputs": [
    {
     "data": {
      "text/plain": [
       "True"
      ]
     },
     "execution_count": 36,
     "metadata": {},
     "output_type": "execute_result"
    }
   ],
   "source": [
    "p.match('b*/c')"
   ]
  },
  {
   "cell_type": "code",
   "execution_count": 42,
   "id": "89189135-2b52-4ef8-a728-4e9e40acdb50",
   "metadata": {},
   "outputs": [
    {
     "data": {
      "text/plain": [
       "False"
      ]
     },
     "execution_count": 42,
     "metadata": {},
     "output_type": "execute_result"
    }
   ],
   "source": [
    "pathlib.PurePath(\"a/b/c\").joinpath('../e') == pathlib.PurePath(\"a/b/e\")"
   ]
  },
  {
   "cell_type": "code",
   "execution_count": 43,
   "id": "b31e0e03-b8ca-4077-86b1-6c3b64db5ed4",
   "metadata": {},
   "outputs": [
    {
     "data": {
      "text/plain": [
       "PurePosixPath('a/b/e')"
      ]
     },
     "execution_count": 43,
     "metadata": {},
     "output_type": "execute_result"
    }
   ],
   "source": [
    "p.parent / \"e\""
   ]
  },
  {
   "cell_type": "code",
   "execution_count": 46,
   "id": "86bfec68-a718-418f-8743-0e5d2ebafd97",
   "metadata": {},
   "outputs": [
    {
     "data": {
      "text/plain": [
       "PurePosixPath('a/.pyen/b')"
      ]
     },
     "execution_count": 46,
     "metadata": {},
     "output_type": "execute_result"
    }
   ],
   "source": [
    "pathlib.PurePath('a/.pyen/b/')"
   ]
  },
  {
   "cell_type": "markdown",
   "id": "223f9b04-ee0f-4697-a0cd-e1a0bba664ed",
   "metadata": {},
   "source": [
    "# Analyzing OpenContext arks"
   ]
  },
  {
   "cell_type": "code",
   "execution_count": null,
   "id": "f3033de5-e889-46d8-b630-62b28da890ab",
   "metadata": {
    "tags": []
   },
   "outputs": [],
   "source": [
    "import pandas as pd\n",
    "from pandas import DataFrame, Series, Index\n",
    "import numpy as np"
   ]
  },
  {
   "cell_type": "code",
   "execution_count": null,
   "id": "7de93bb5-bee6-4a94-b673-fb2aab475040",
   "metadata": {
    "tags": []
   },
   "outputs": [],
   "source": [
    "df = pd.read_csv(\"data/5lrRHNLMtGqBVN8d.csv\")\n",
    "df.head(2)"
   ]
  },
  {
   "cell_type": "code",
   "execution_count": null,
   "id": "5396fcb8-7008-44a8-81b8-17e0007874f6",
   "metadata": {
    "tags": []
   },
   "outputs": [],
   "source": [
    "len(df)"
   ]
  },
  {
   "cell_type": "code",
   "execution_count": null,
   "id": "266ed7e1-6245-4495-8d68-6d2c6ec255a0",
   "metadata": {
    "tags": []
   },
   "outputs": [],
   "source": [
    "df['_status'].value_counts()"
   ]
  }
 ],
 "metadata": {
  "kernelspec": {
   "display_name": "Python 3 (ipykernel)",
   "language": "python",
   "name": "python3"
  },
  "language_info": {
   "codemirror_mode": {
    "name": "ipython",
    "version": 3
   },
   "file_extension": ".py",
   "mimetype": "text/x-python",
   "name": "python",
   "nbconvert_exporter": "python",
   "pygments_lexer": "ipython3",
   "version": "3.9.16"
  }
 },
 "nbformat": 4,
 "nbformat_minor": 5
}
