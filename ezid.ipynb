{
 "cells": [
  {
   "cell_type": "code",
   "execution_count": 1,
   "id": "0b97bbf0-8b51-49c7-bf1e-ac8748d15eb2",
   "metadata": {
    "tags": []
   },
   "outputs": [],
   "source": [
    "# https://stackoverflow.com/a/67029719/7782\n",
    "from IPython import get_ipython\n",
    "from IPython.core.magic import register_cell_magic\n",
    "\n",
    "ipython = get_ipython()\n",
    "\n",
    "@register_cell_magic\n",
    "def pybash(line, cell):\n",
    "    ipython.run_cell_magic('bash', '', cell.format(**globals()))"
   ]
  },
  {
   "cell_type": "code",
   "execution_count": 2,
   "id": "d15806c5-4c33-4138-a10d-6a0260e8dfde",
   "metadata": {
    "tags": []
   },
   "outputs": [],
   "source": [
    "import ezid_client_tools as ect\n",
    "from ezid_client_tools.utils import ANVL\n",
    "\n",
    "import argparse\n",
    "import settings\n",
    "\n",
    "import os\n",
    "import types\n"
   ]
  },
  {
   "cell_type": "code",
   "execution_count": 3,
   "id": "537eb66f-c00d-4d23-8c61-4ec529a09ea5",
   "metadata": {
    "tags": []
   },
   "outputs": [],
   "source": [
    "EZID_USER = os.environ.get('EZID_USER')\n",
    "EZID_PASSWD = os.environ.get('EZID_PASSWD')\n",
    "\n",
    "if (EZID_USER is None) or (EZID_PASSWD is None):\n",
    "    import settings\n",
    "    EZID_USER = settings.EZID_USER\n",
    "    EZID_PASSWD = settings.EZID_PASSWD\n",
    "\n",
    "    "
   ]
  },
  {
   "cell_type": "code",
   "execution_count": 4,
   "id": "3009e85b-6504-4839-8503-fc4edac6f499",
   "metadata": {
    "tags": []
   },
   "outputs": [
    {
     "name": "stdout",
     "output_type": "stream",
     "text": [
      "success: ark:/28722/k2154wc6r\n",
      "erc.who: Anthony Tuck\n",
      "erc.what: Photo 19660118 from Italy/Poggio Civitate/Tesoro/Tesoro 2F/1966, ID:476/PC 19660118\n",
      "erc.when: 2017-10-04\n",
      "_owner: opencontext\n",
      "_ownergroup: ucblibrary\n",
      "_created: 1624495319\n",
      "_updated: 1624495319\n",
      "_profile: erc\n",
      "_target: http://opencontext.org/media/23b1e460-9c04-4672-bf5b-91bae2b838b0\n",
      "_status: public\n",
      "_export: yes\n"
     ]
    }
   ],
   "source": [
    "cclient = ect.ConsoleClient()\n",
    "\n",
    "cclient.args.credentials = f\"{EZID_USER}:{EZID_PASSWD}\"\n",
    "cclient.args.server = \"p\"\n",
    "\n",
    "cclient.args.operation = ['view', 'ark:/28722/k2154wc6r']\n",
    "\n",
    "cclient.operation()"
   ]
  },
  {
   "cell_type": "code",
   "execution_count": 5,
   "id": "152286ec-8be0-4768-ab14-55a719527cd1",
   "metadata": {
    "tags": []
   },
   "outputs": [],
   "source": [
    "anvl = ANVL()\n",
    "client = ect.Client()\n",
    "\n",
    "client.args.credentials = f\"{EZID_USER}:{EZID_PASSWD}\"\n",
    "client.args.server = \"p\"\n",
    "\n",
    "client.args.operation = ['view', 'ark:/28722/k2154wc6r']"
   ]
  },
  {
   "cell_type": "code",
   "execution_count": 6,
   "id": "b3940962-7b85-4461-b462-f1ce4690f80b",
   "metadata": {
    "tags": []
   },
   "outputs": [
    {
     "data": {
      "text/plain": [
       "LastUpdatedOrderedDict([('success', 'ark'),\n",
       "                        ('erc.who', 'Anthony Tuck'),\n",
       "                        ('erc.what',\n",
       "                         'Photo 19660118 from Italy/Poggio Civitate/Tesoro/Tesoro 2F/1966, ID'),\n",
       "                        ('erc.when', '2017-10-04'),\n",
       "                        ('_owner', 'opencontext'),\n",
       "                        ('_ownergroup', 'ucblibrary'),\n",
       "                        ('_created', '1624495319'),\n",
       "                        ('_updated', '1624495319'),\n",
       "                        ('_profile', 'erc'),\n",
       "                        ('_target', 'http'),\n",
       "                        ('_status', 'public'),\n",
       "                        ('_export', 'yes')])"
      ]
     },
     "execution_count": 6,
     "metadata": {},
     "output_type": "execute_result"
    }
   ],
   "source": [
    "r = client.operation()\n",
    "anvl.parse_anvl_str(r.encode('utf-8'))"
   ]
  },
  {
   "cell_type": "code",
   "execution_count": 7,
   "id": "c7543556-c846-400d-a068-e245253ce97b",
   "metadata": {
    "tags": []
   },
   "outputs": [
    {
     "name": "stdout",
     "output_type": "stream",
     "text": [
      "success: ark:/28722/k2154wc6r\n",
      "erc.who: Anthony Tuck\n",
      "erc.what: Photo 19660118 from Italy/Poggio Civitate/Tesoro/Tesoro 2F/1966, ID:476/PC 19660118\n",
      "erc.when: 2017-10-04\n",
      "_owner: opencontext\n",
      "_ownergroup: ucblibrary\n",
      "_created: 1624495319\n",
      "_updated: 1624495319\n",
      "_profile: erc\n",
      "_target: http://opencontext.org/media/23b1e460-9c04-4672-bf5b-91bae2b838b0\n",
      "_status: public\n",
      "_export: yes\n"
     ]
    }
   ],
   "source": [
    "%%pybash\n",
    "\n",
    "ezid p \"{EZID_USER}:{EZID_PASSWD}\" view ark:/28722/k2154wc6r "
   ]
  },
  {
   "cell_type": "code",
   "execution_count": 8,
   "id": "97992aef-171b-4721-be86-52ea4c6947cf",
   "metadata": {
    "tags": []
   },
   "outputs": [
    {
     "name": "stderr",
     "output_type": "stream",
     "text": [
      "  % Total    % Received % Xferd  Average Speed   Time    Time     Time  Current\n",
      "                                 Dload  Upload   Total   Spent    Left  Speed\n",
      "100   134  100    64  100    70    396    433 --:--:-- --:--:-- --:--:--   858\n"
     ]
    },
    {
     "name": "stdout",
     "output_type": "stream",
     "text": [
      "success: https://ezid.cdlib.org/download/HrpkaWp2hzFSi4qm.txt.gz"
     ]
    }
   ],
   "source": [
    "%%pybash\n",
    "\n",
    "curl -u \"{EZID_USER}:{EZID_PASSWD}\" -d format=anvl -d type=ark \\\n",
    "  -d permanence=real \\\n",
    "  -d createdAfter=2023-01-01T00:00:00Z \\\n",
    "  https://ezid.cdlib.org/download_request"
   ]
  },
  {
   "cell_type": "code",
   "execution_count": 9,
   "id": "310c2484-d17a-49d5-8419-fedf062d3985",
   "metadata": {
    "tags": []
   },
   "outputs": [
    {
     "name": "stderr",
     "output_type": "stream",
     "text": [
      "  % Total    % Received % Xferd  Average Speed   Time    Time     Time  Current\n",
      "                                 Dload  Upload   Total   Spent    Left  Speed\n",
      "100   159  100    64  100    95    388    576 --:--:-- --:--:-- --:--:--   993\n"
     ]
    },
    {
     "name": "stdout",
     "output_type": "stream",
     "text": [
      "success: https://ezid.cdlib.org/download/NyftZ6WQZ2JEYFf7.csv.gz"
     ]
    }
   ],
   "source": [
    "%%pybash\n",
    "\n",
    "curl -u \"{EZID_USER}:{EZID_PASSWD}\" \\\n",
    "  -d format=csv \\\n",
    "  -d column=_id \\\n",
    "  -d column=erc.who \\\n",
    "  -d type=ark \\\n",
    "  -d permanence=real \\\n",
    "  -d createdAfter=2023-01-01T00:00:00Z \\\n",
    "  https://ezid.cdlib.org/download_request\n"
   ]
  },
  {
   "cell_type": "code",
   "execution_count": null,
   "id": "343b5ecf-deb5-4ad4-8a9b-11afad362ac9",
   "metadata": {
    "tags": []
   },
   "outputs": [],
   "source": [
    "%%pybash\n",
    "\n",
    "curl -u \"{EZID_USER}:{EZID_PASSWD}\" \\\n",
    "  -d format=csv \\\n",
    "  -d column=_id \\\n",
    "  -d column=erc.who \\\n",
    "  -d column=erc.what \\\n",
    "  -d column=erc.when \\\n",
    "  -d column=_owner \\\n",
    "  -d column=_ownergroup \\\n",
    "  -d column=_created \\\n",
    "  -d column=_updated \\\n",
    "  -d column=_profile \\\n",
    "  -d column=_target \\\n",
    "  -d column=_status \\\n",
    "  -d column=_export \\\n",
    "  -d type=ark \\\n",
    "  -d permanence=real \\\n",
    "  -d createdAfter=2023-04-01T00:00:00Z \\\n",
    "  https://ezid.cdlib.org/download_request\n",
    "\n"
   ]
  },
  {
   "cell_type": "code",
   "execution_count": 10,
   "id": "eae0b4e2-c67f-406d-bb3d-b9a61f9754ad",
   "metadata": {},
   "outputs": [
    {
     "name": "stdout",
     "output_type": "stream",
     "text": [
      "success: https://ezid.cdlib.org/download/LBvqWJmLNWJAzB4p.csv.gz\n"
     ]
    }
   ],
   "source": [
    "import requests\n",
    "url = 'https://ezid.cdlib.org/download_request'\n",
    "data = {\n",
    "    'format': 'csv',\n",
    "    'column': ['_id', 'erc.who', 'erc.what', 'erc.when', '_owner', '_ownergroup', '_created', '_updated', '_profile', '_target', '_status', '_export'],\n",
    "    'type': 'ark',\n",
    "    'permanence': 'real',\n",
    "    'createdAfter': '2023-04-01T00:00:00Z'\n",
    "}\n",
    "\n",
    "response = requests.post(url, auth=(EZID_USER, EZID_PASSWD), data=data)\n",
    "\n",
    "if response.status_code == 200:\n",
    "    print(response.text)\n",
    "else:\n",
    "    print(f\"Error: {response.status_code}\")"
   ]
  },
  {
   "cell_type": "code",
   "execution_count": 11,
   "id": "5562d164-2800-4824-a131-8b0b97d9cf70",
   "metadata": {},
   "outputs": [
    {
     "data": {
      "text/plain": [
       "(200, 'success: https://ezid.cdlib.org/download/LBvqWJmLNWJAzB4p.csv.gz')"
      ]
     },
     "execution_count": 11,
     "metadata": {},
     "output_type": "execute_result"
    }
   ],
   "source": [
    "response.status_code, response.text"
   ]
  },
  {
   "cell_type": "code",
   "execution_count": null,
   "id": "d44a4c16-c074-4cbb-b4ea-53f1ae66c6de",
   "metadata": {},
   "outputs": [],
   "source": []
  },
  {
   "cell_type": "markdown",
   "id": "3a5d177e-926b-4f24-8ff0-05d24b86037a",
   "metadata": {
    "tags": []
   },
   "source": [
    "# Test arks"
   ]
  },
  {
   "cell_type": "code",
   "execution_count": 12,
   "id": "af46aac1-5c7e-42c8-a1a1-b7c8c8a03576",
   "metadata": {
    "tags": []
   },
   "outputs": [],
   "source": [
    "TEST_NAAN = \"99999\"\n",
    "TEST_SHOULDER = \"fk4\"\n"
   ]
  },
  {
   "cell_type": "code",
   "execution_count": 13,
   "id": "863b0ad0-ad01-44ab-8860-f7a71e267bff",
   "metadata": {},
   "outputs": [],
   "source": [
    "# write a public fake ARK"
   ]
  },
  {
   "cell_type": "code",
   "execution_count": 14,
   "id": "3c66a61a-8440-46c6-96a8-4a93eb1573bb",
   "metadata": {
    "tags": []
   },
   "outputs": [
    {
     "name": "stdout",
     "output_type": "stream",
     "text": [
      "success: ark:/99999/fk4/00/a5\n"
     ]
    }
   ],
   "source": [
    "%%pybash\n",
    "\n",
    "ezid p \"{EZID_USER}:{EZID_PASSWD}\" create! ark:/{TEST_NAAN}/{TEST_SHOULDER}/00/a5"
   ]
  },
  {
   "cell_type": "code",
   "execution_count": 15,
   "id": "6e83b615-edef-4754-88b2-f747a42668ea",
   "metadata": {},
   "outputs": [
    {
     "name": "stdout",
     "output_type": "stream",
     "text": [
      "success: ark:/99999/fk4/00/a5\n"
     ]
    }
   ],
   "source": [
    "%%pybash\n",
    "\n",
    "ezid s \"{EZID_USER}:{EZID_PASSWD}\" create! ark:/{TEST_NAAN}/{TEST_SHOULDER}/00/a5"
   ]
  },
  {
   "cell_type": "code",
   "execution_count": null,
   "id": "6e721577-ca0c-4bc1-b068-bbe0becd9b58",
   "metadata": {},
   "outputs": [],
   "source": [
    "client.args.server = \"p\"\n",
    "\n",
    "client.args.operation = ['create!', f'ark:/{TEST_NAAN}/{TEST_SHOULDER}/00/a5']\n",
    "r = client.operation()\n",
    "r"
   ]
  },
  {
   "cell_type": "code",
   "execution_count": null,
   "id": "105c0dd2-dedd-4fd2-92dd-c49e89547443",
   "metadata": {
    "tags": []
   },
   "outputs": [],
   "source": [
    "%%pybash\n",
    "\n",
    "ezid p \"{EZID_USER}:{EZID_PASSWD}\" view ark:/{TEST_NAAN}/{TEST_SHOULDER}/00/a5"
   ]
  },
  {
   "cell_type": "markdown",
   "id": "6c033319-bc61-47a7-8c35-92194e2982a6",
   "metadata": {},
   "source": [
    "# Preregistration Shoulder"
   ]
  },
  {
   "cell_type": "code",
   "execution_count": null,
   "id": "9eadfc2c-8496-4251-861a-794709277a37",
   "metadata": {
    "tags": []
   },
   "outputs": [],
   "source": [
    "# New shoulder\n",
    "\n",
    "OC_NAAN = \"28722\"\n",
    "OC_PREREG_SHOULDER = \"r2\"\n",
    "\n",
    "def create_ark(self, id_, update=True ):\n",
    "    print(f\"Creating ARK for {id_}...\")\n",
    "\n",
    "# Dynamically add the create_ark method to the client object\n",
    "client.create_ark = types.MethodType(create_ark, client)\n",
    "\n",
    "# Call the create_ark method on the client object\n",
    "client.create_ark(\"ark://\")\n"
   ]
  },
  {
   "cell_type": "markdown",
   "id": "223f9b04-ee0f-4697-a0cd-e1a0bba664ed",
   "metadata": {},
   "source": [
    "# Analyzing OpenContext arks"
   ]
  },
  {
   "cell_type": "code",
   "execution_count": null,
   "id": "f3033de5-e889-46d8-b630-62b28da890ab",
   "metadata": {
    "tags": []
   },
   "outputs": [],
   "source": [
    "import pandas as pd\n",
    "from pandas import DataFrame, Series, Index\n",
    "import numpy as np"
   ]
  },
  {
   "cell_type": "code",
   "execution_count": null,
   "id": "7de93bb5-bee6-4a94-b673-fb2aab475040",
   "metadata": {
    "tags": []
   },
   "outputs": [],
   "source": [
    "df = pd.read_csv(\"data/5lrRHNLMtGqBVN8d.csv\")\n",
    "df.head(2)"
   ]
  },
  {
   "cell_type": "code",
   "execution_count": null,
   "id": "5396fcb8-7008-44a8-81b8-17e0007874f6",
   "metadata": {
    "tags": []
   },
   "outputs": [],
   "source": [
    "len(df)"
   ]
  },
  {
   "cell_type": "code",
   "execution_count": null,
   "id": "266ed7e1-6245-4495-8d68-6d2c6ec255a0",
   "metadata": {
    "tags": []
   },
   "outputs": [],
   "source": [
    "df['_status'].value_counts()"
   ]
  }
 ],
 "metadata": {
  "kernelspec": {
   "display_name": "Python 3 (ipykernel)",
   "language": "python",
   "name": "python3"
  },
  "language_info": {
   "codemirror_mode": {
    "name": "ipython",
    "version": 3
   },
   "file_extension": ".py",
   "mimetype": "text/x-python",
   "name": "python",
   "nbconvert_exporter": "python",
   "pygments_lexer": "ipython3",
   "version": "3.9.16"
  }
 },
 "nbformat": 4,
 "nbformat_minor": 5
}
