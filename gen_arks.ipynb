{
 "cells": [
  {
   "cell_type": "code",
   "execution_count": 13,
   "id": "a389d34b-2b80-4057-b060-fe7aecfa4760",
   "metadata": {
    "tags": []
   },
   "outputs": [],
   "source": [
    "from pynoid import pynoid as pn\n",
    "\n",
    "import random\n",
    "\n",
    "from noid import mint, validate, calculate_check_digit, generate_noid"
   ]
  },
  {
   "cell_type": "code",
   "execution_count": 14,
   "id": "ef86ccf0-8ef4-4a3b-92f0-edd9849c550d",
   "metadata": {
    "tags": []
   },
   "outputs": [],
   "source": [
    "NAAN = \"28722\"\n",
    "SHOULDER = \"k3\"\n",
    "TEMPLATE = f\"{SHOULDER}.rdddddk\""
   ]
  },
  {
   "cell_type": "code",
   "execution_count": 15,
   "id": "32728c07-9fda-4f5b-bd01-5db4993ad509",
   "metadata": {
    "tags": []
   },
   "outputs": [
    {
     "name": "stderr",
     "output_type": "stream",
     "text": [
      "Use of uninitialized value in split at /usr/local/bin/noid line 62.\n"
     ]
    },
    {
     "name": "stdout",
     "output_type": "stream",
     "text": [
      "Created:   minter for 100000 random identifiers of form k3.rdddddk\n",
      "       A Noid minting and binding database has been created that will bind\n",
      "       and mint 100,000 identifiers with the template \"k3.rdddddk\".\n",
      "       Sample identifiers would be \"28722/k3997979\" and \"28722/k346875c\".\n",
      "       Minting order is random.  See ./NOID/README for details.\n",
      "\n"
     ]
    }
   ],
   "source": [
    "%%bash\n",
    "\n",
    "\n",
    "if [ ! -d NOID ]; then\n",
    "    /usr/local/bin/noid dbcreate k3.rdddddk long 28722 opencontext.org noidTest\n",
    "fi"
   ]
  },
  {
   "cell_type": "code",
   "execution_count": 16,
   "id": "954b894e-7c9e-4a24-92db-d8b14cbd2096",
   "metadata": {
    "tags": []
   },
   "outputs": [
    {
     "name": "stderr",
     "output_type": "stream",
     "text": [
      "Use of uninitialized value in split at /usr/local/bin/noid line 62.\n"
     ]
    }
   ],
   "source": [
    "%%bash\n",
    "\n",
    "/usr/local/bin/noid mint 5000 > noids.txt"
   ]
  },
  {
   "cell_type": "code",
   "execution_count": 5,
   "id": "e0302b9c-7079-4262-812b-72021cc14b35",
   "metadata": {
    "tags": []
   },
   "outputs": [
    {
     "name": "stdout",
     "output_type": "stream",
     "text": [
      "ark:/rD72f\n"
     ]
    }
   ],
   "source": [
    "%%bash\n",
    "\n",
    "/opt/conda/bin/noid"
   ]
  },
  {
   "cell_type": "code",
   "execution_count": 17,
   "id": "eba943a2-d614-44a3-bed0-08e07f7fd1bb",
   "metadata": {
    "tags": []
   },
   "outputs": [
    {
     "name": "stdout",
     "output_type": "stream",
     "text": [
      "ark:/28722/k300000w ark:/28722/k3.000000\n"
     ]
    }
   ],
   "source": [
    "n=0\n",
    "\n",
    "noid1 = pn.mint(template=TEMPLATE, n=n, scheme=\"ark:/\", naa=NAAN)\n",
    "noid2 = mint(template=TEMPLATE, n=n, scheme=\"ark:/\", naa=NAAN)\n",
    "\n",
    "print(noid1, noid2)"
   ]
  },
  {
   "cell_type": "markdown",
   "id": "bf175fc1-99ec-48e0-811b-528fbb2c403d",
   "metadata": {
    "tags": []
   },
   "source": [
    "# noidy"
   ]
  },
  {
   "cell_type": "code",
   "execution_count": 18,
   "id": "3a1dfaaf-5a4c-4c1c-b08a-d665ece214c5",
   "metadata": {
    "tags": []
   },
   "outputs": [],
   "source": [
    "from noidy import n2tminter\n"
   ]
  },
  {
   "cell_type": "code",
   "execution_count": 19,
   "id": "1fd76871-72ef-4b50-8f78-3cccc0e2f050",
   "metadata": {
    "tags": []
   },
   "outputs": [
    {
     "name": "stdout",
     "output_type": "stream",
     "text": [
      "ark:28722/k317101f\n",
      "ark:28722/k304105w\n",
      "ark:28722/k391315t\n",
      "ark:28722/k378319d\n",
      "ark:28722/k365323s\n"
     ]
    }
   ],
   "source": [
    "prefix = f\"{NAAN}/{SHOULDER}\"\n",
    "minter = n2tminter.N2TMinter(shoulder_str=prefix, mask_str=\"dddddk\")\n",
    "count = 5\n",
    "\n",
    "\n",
    "res = minter.mint(count=count)\n",
    "for ark in res:\n",
    "    print(f\"ark:{prefix}{ark}\")"
   ]
  },
  {
   "cell_type": "code",
   "execution_count": null,
   "id": "66367363-681e-49b9-8544-b0d36eacf081",
   "metadata": {},
   "outputs": [],
   "source": []
  }
 ],
 "metadata": {
  "kernelspec": {
   "display_name": "Python 3 (ipykernel)",
   "language": "python",
   "name": "python3"
  },
  "language_info": {
   "codemirror_mode": {
    "name": "ipython",
    "version": 3
   },
   "file_extension": ".py",
   "mimetype": "text/x-python",
   "name": "python",
   "nbconvert_exporter": "python",
   "pygments_lexer": "ipython3",
   "version": "3.10.10"
  }
 },
 "nbformat": 4,
 "nbformat_minor": 5
}
