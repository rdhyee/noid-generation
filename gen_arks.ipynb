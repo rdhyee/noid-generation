{
 "cells": [
  {
   "cell_type": "code",
   "execution_count": 1,
   "id": "a389d34b-2b80-4057-b060-fe7aecfa4760",
   "metadata": {
    "tags": []
   },
   "outputs": [],
   "source": [
    "from pynoid import pynoid as pn\n",
    "\n",
    "import random\n",
    "\n",
    "from noid import mint, validate, calculate_check_digit, generate_noid"
   ]
  },
  {
   "cell_type": "code",
   "execution_count": 2,
   "id": "ef86ccf0-8ef4-4a3b-92f0-edd9849c550d",
   "metadata": {
    "tags": []
   },
   "outputs": [],
   "source": [
    "NAAN = \"28722\"\n",
    "SHOULDER = \"k3\"\n",
    "TEMPLATE = f\"{SHOULDER}.sdddddk\""
   ]
  },
  {
   "cell_type": "code",
   "execution_count": 3,
   "id": "32728c07-9fda-4f5b-bd01-5db4993ad509",
   "metadata": {
    "tags": []
   },
   "outputs": [],
   "source": [
    "%%bash\n",
    "\n",
    "\n",
    "if [ ! -d NOID ]; then\n",
    "    /usr/local/bin/noid dbcreate k3.sdddddk long 28722 opencontext.org noidTest\n",
    "fi"
   ]
  },
  {
   "cell_type": "code",
   "execution_count": 4,
   "id": "954b894e-7c9e-4a24-92db-d8b14cbd2096",
   "metadata": {
    "tags": []
   },
   "outputs": [
    {
     "name": "stderr",
     "output_type": "stream",
     "text": [
      "Use of uninitialized value in split at /usr/local/bin/noid line 62.\n"
     ]
    }
   ],
   "source": [
    "%%bash\n",
    "\n",
    "/usr/local/bin/noid mint 5000 > noids.txt"
   ]
  },
  {
   "cell_type": "code",
   "execution_count": 5,
   "id": "e0302b9c-7079-4262-812b-72021cc14b35",
   "metadata": {
    "tags": []
   },
   "outputs": [
    {
     "name": "stdout",
     "output_type": "stream",
     "text": [
      "ark:/oM52n\n"
     ]
    }
   ],
   "source": [
    "%%bash\n",
    "\n",
    "/opt/conda/bin/noid"
   ]
  },
  {
   "cell_type": "code",
   "execution_count": 6,
   "id": "eba943a2-d614-44a3-bed0-08e07f7fd1bb",
   "metadata": {
    "tags": []
   },
   "outputs": [
    {
     "name": "stdout",
     "output_type": "stream",
     "text": [
      "ark:/28722/k300000w ark:/28722/k3.000000\n"
     ]
    }
   ],
   "source": [
    "n=0\n",
    "\n",
    "noid1 = pn.mint(template=TEMPLATE, n=n, scheme=\"ark:/\", naa=NAAN)\n",
    "noid2 = mint(template=TEMPLATE, n=n, scheme=\"ark:/\", naa=NAAN)\n",
    "\n",
    "print(noid1, noid2)"
   ]
  },
  {
   "cell_type": "code",
   "execution_count": null,
   "id": "fec1f584-e010-4f54-bd92-637e037b1693",
   "metadata": {},
   "outputs": [],
   "source": []
  }
 ],
 "metadata": {
  "kernelspec": {
   "display_name": "Python 3 (ipykernel)",
   "language": "python",
   "name": "python3"
  },
  "language_info": {
   "codemirror_mode": {
    "name": "ipython",
    "version": 3
   },
   "file_extension": ".py",
   "mimetype": "text/x-python",
   "name": "python",
   "nbconvert_exporter": "python",
   "pygments_lexer": "ipython3",
   "version": "3.10.9"
  }
 },
 "nbformat": 4,
 "nbformat_minor": 5
}
