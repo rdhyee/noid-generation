{
 "cells": [
  {
   "cell_type": "code",
   "execution_count": null,
   "id": "a389d34b-2b80-4057-b060-fe7aecfa4760",
   "metadata": {
    "tags": []
   },
   "outputs": [],
   "source": [
    "from pynoid import pynoid as pn\n",
    "\n",
    "import random\n",
    "\n",
    "from noid import mint, validate, calculate_check_digit, generate_noid"
   ]
  },
  {
   "cell_type": "code",
   "execution_count": null,
   "id": "ef86ccf0-8ef4-4a3b-92f0-edd9849c550d",
   "metadata": {
    "tags": []
   },
   "outputs": [],
   "source": [
    "NAAN = \"28722\"\n",
    "SHOULDER = \"k3\"\n",
    "TEMPLATE = f\"{SHOULDER}.rdddddk\""
   ]
  },
  {
   "cell_type": "code",
   "execution_count": null,
   "id": "32728c07-9fda-4f5b-bd01-5db4993ad509",
   "metadata": {
    "tags": []
   },
   "outputs": [],
   "source": [
    "%%bash\n",
    "\n",
    "\n",
    "if [ ! -d NOID ]; then\n",
    "    /usr/local/bin/noid dbcreate k3.rdddddk long 28722 opencontext.org noidTest\n",
    "fi"
   ]
  },
  {
   "cell_type": "code",
   "execution_count": null,
   "id": "954b894e-7c9e-4a24-92db-d8b14cbd2096",
   "metadata": {
    "tags": []
   },
   "outputs": [],
   "source": [
    "%%bash\n",
    "\n",
    "/usr/local/bin/noid mint 5000 > noids.txt"
   ]
  },
  {
   "cell_type": "code",
   "execution_count": null,
   "id": "e0302b9c-7079-4262-812b-72021cc14b35",
   "metadata": {
    "tags": []
   },
   "outputs": [],
   "source": [
    "%%bash\n",
    "\n",
    "/opt/conda/bin/noid"
   ]
  },
  {
   "cell_type": "code",
   "execution_count": null,
   "id": "eba943a2-d614-44a3-bed0-08e07f7fd1bb",
   "metadata": {
    "tags": []
   },
   "outputs": [],
   "source": [
    "n=-1\n",
    "\n",
    "noid1 = pn.mint(template=TEMPLATE, n=n, scheme=\"ark:/\", naa=NAAN)\n",
    "noid2 = mint(template=TEMPLATE, n=n, scheme=\"ark:/\", naa=NAAN)\n",
    "\n",
    "print(noid1, noid2)"
   ]
  },
  {
   "cell_type": "markdown",
   "id": "bf175fc1-99ec-48e0-811b-528fbb2c403d",
   "metadata": {
    "tags": []
   },
   "source": [
    "# noidy"
   ]
  },
  {
   "cell_type": "code",
   "execution_count": null,
   "id": "3a1dfaaf-5a4c-4c1c-b08a-d665ece214c5",
   "metadata": {
    "tags": []
   },
   "outputs": [],
   "source": [
    "from noidy import n2tminter\n"
   ]
  },
  {
   "cell_type": "code",
   "execution_count": null,
   "id": "7f1521b8-0a47-4d90-bc7e-0f2e6f85b2dc",
   "metadata": {
    "tags": []
   },
   "outputs": [],
   "source": [
    "prefix = f\"{NAAN}/{SHOULDER}\"\n",
    "minter = n2tminter.N2TMinter(shoulder_str=prefix, mask_str=\"dddddk\")\n",
    "count = 5\n",
    "\n",
    "\n",
    "res = minter.mint(count=count)"
   ]
  },
  {
   "cell_type": "code",
   "execution_count": null,
   "id": "1de3f275-30e0-44dd-b6a5-492621928705",
   "metadata": {
    "tags": []
   },
   "outputs": [],
   "source": [
    "# check digital applied to id including NAAN, shoulder, and the rest of the id\n",
    "minter._get_check_char(\"28722/k317101\")"
   ]
  },
  {
   "cell_type": "code",
   "execution_count": null,
   "id": "5e4f34b6-f09e-4967-a0a7-7a67200e5ec8",
   "metadata": {
    "tags": []
   },
   "outputs": [],
   "source": [
    "for ark in res:\n",
    "    print(f\"ark:{prefix}{ark}\")"
   ]
  },
  {
   "cell_type": "code",
   "execution_count": null,
   "id": "50407258-10f7-4db1-b763-5702890d4009",
   "metadata": {
    "tags": []
   },
   "outputs": [],
   "source": [
    "minter.asDict()"
   ]
  },
  {
   "cell_type": "code",
   "execution_count": null,
   "id": "2b8c5e00-41d6-4dee-8f34-e92ad27ea868",
   "metadata": {},
   "outputs": [],
   "source": []
  },
  {
   "cell_type": "code",
   "execution_count": null,
   "id": "5f204687-c232-49a5-95ec-d40813e8ffa3",
   "metadata": {},
   "outputs": [],
   "source": []
  }
 ],
 "metadata": {
  "kernelspec": {
   "display_name": "Python 3 (ipykernel)",
   "language": "python",
   "name": "python3"
  },
  "language_info": {
   "codemirror_mode": {
    "name": "ipython",
    "version": 3
   },
   "file_extension": ".py",
   "mimetype": "text/x-python",
   "name": "python",
   "nbconvert_exporter": "python",
   "pygments_lexer": "ipython3",
   "version": "3.11.3"
  }
 },
 "nbformat": 4,
 "nbformat_minor": 5
}
